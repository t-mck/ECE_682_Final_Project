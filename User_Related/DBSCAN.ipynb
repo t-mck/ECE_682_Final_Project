{
 "cells": [
  {
   "cell_type": "code",
   "execution_count": 7,
   "id": "5e82644d-80f0-46c3-8133-061f7fc3de20",
   "metadata": {
    "tags": []
   },
   "outputs": [],
   "source": [
    "import pandas as pd\n",
    "import numpy as np\n",
    "import matplotlib.pyplot as plt"
   ]
  },
  {
   "cell_type": "markdown",
   "id": "e260ddf4-386f-4a7e-b239-84a6374265f3",
   "metadata": {
    "tags": []
   },
   "source": [
    "## Import Data"
   ]
  },
  {
   "cell_type": "code",
   "execution_count": 2,
   "id": "d844bd21-4399-43ab-a119-11d725dfdbb3",
   "metadata": {
    "tags": []
   },
   "outputs": [],
   "source": [
    "user_data = pd.read_csv('user_features.csv', index_col = 0)\n"
   ]
  },
  {
   "cell_type": "code",
   "execution_count": 80,
   "id": "c8acf5b0-03e0-432b-9689-f212398b32ed",
   "metadata": {
    "tags": []
   },
   "outputs": [],
   "source": [
    "user_data_top = user_data[user_data['num_businesses'] > 30]\n",
    "low_variance_feats = []\n",
    "for feat in user_data_top.columns:\n",
    "    # print(f'{feat}:\\t {user_data_top[feat].mean()} \\t {user_data_top[feat].std()}')\n",
    "    if user_data_top[feat].std() < 0.1:\n",
    "        low_variance_feats.append(feat)"
   ]
  },
  {
   "cell_type": "code",
   "execution_count": 82,
   "id": "3f52a9e0-fe7e-4b06-b81d-ef2c9090becb",
   "metadata": {
    "tags": []
   },
   "outputs": [
    {
     "data": {
      "text/plain": [
       "59"
      ]
     },
     "execution_count": 82,
     "metadata": {},
     "output_type": "execute_result"
    }
   ],
   "source": [
    "len(low_variance_feats)"
   ]
  },
  {
   "cell_type": "code",
   "execution_count": 84,
   "id": "861062e9-0442-45d4-b0ed-320b7baa6115",
   "metadata": {
    "tags": []
   },
   "outputs": [],
   "source": [
    "user_top_hivar = user_data_top.drop(low_variance_feats, axis = 1)"
   ]
  },
  {
   "cell_type": "code",
   "execution_count": 89,
   "id": "807aee74-7a19-427d-a2b9-855c4ff2d1dc",
   "metadata": {
    "tags": []
   },
   "outputs": [],
   "source": [
    "corr_matrix = user_top_hivar.corr().abs()\n",
    "\n",
    "# Select upper triangle of correlation matrix\n",
    "upper = corr_matrix.where(np.triu(np.ones(corr_matrix.shape), k=1).astype(bool))\n",
    "\n",
    "# Find features with correlation greater than 0.95\n",
    "to_drop = [column for column in upper.columns if any(upper[column] > 0.95)]\n",
    "\n",
    "# Drop features \n",
    "# df.drop(to_drop, axis=1, inplace=True)"
   ]
  },
  {
   "cell_type": "code",
   "execution_count": 90,
   "id": "63a2e044-1d45-4785-9119-d000e085340f",
   "metadata": {
    "tags": []
   },
   "outputs": [
    {
     "data": {
      "text/plain": [
       "9"
      ]
     },
     "execution_count": 90,
     "metadata": {},
     "output_type": "execute_result"
    }
   ],
   "source": [
    "len(to_drop)"
   ]
  },
  {
   "cell_type": "code",
   "execution_count": 91,
   "id": "d336c124-355a-470e-a34c-8609281e6767",
   "metadata": {
    "tags": []
   },
   "outputs": [
    {
     "name": "stdout",
     "output_type": "stream",
     "text": [
      "Caterers , Barbeque\n",
      "0.9595260227263585\n",
      "Chicken Wings , Barbeque\n",
      "0.9606372768954673\n",
      "Delis , Caterers\n",
      "0.9606000981198175\n",
      "Desserts , Bakeries\n",
      "0.9557688111458111\n",
      "Diners , Delis\n",
      "0.9604382997210662\n",
      "Specialty Food , Delis\n",
      "0.953872685401627\n",
      "Sports Bars , Chicken Wings\n",
      "0.964133758238003\n",
      "Sushi Bars , Japanese\n",
      "0.9816192065635495\n",
      "RestaurantsCounterService , Diners\n",
      "0.9798933339457342\n"
     ]
    }
   ],
   "source": [
    "for feature in to_drop: \n",
    "    print(feature +' , ' +upper[feature].idxmax())\n",
    "    print(upper[feature].max())"
   ]
  },
  {
   "cell_type": "code",
   "execution_count": 23,
   "id": "853cd448-ab40-4f61-bbb3-d90c41e12f81",
   "metadata": {
    "tags": []
   },
   "outputs": [
    {
     "data": {
      "text/html": [
       "<div>\n",
       "<style scoped>\n",
       "    .dataframe tbody tr th:only-of-type {\n",
       "        vertical-align: middle;\n",
       "    }\n",
       "\n",
       "    .dataframe tbody tr th {\n",
       "        vertical-align: top;\n",
       "    }\n",
       "\n",
       "    .dataframe thead th {\n",
       "        text-align: right;\n",
       "    }\n",
       "</style>\n",
       "<table border=\"1\" class=\"dataframe\">\n",
       "  <thead>\n",
       "    <tr style=\"text-align: right;\">\n",
       "      <th></th>\n",
       "      <th>Barbeque</th>\n",
       "      <th>Bakeries</th>\n",
       "    </tr>\n",
       "    <tr>\n",
       "      <th>user_id</th>\n",
       "      <th></th>\n",
       "      <th></th>\n",
       "    </tr>\n",
       "  </thead>\n",
       "  <tbody>\n",
       "    <tr>\n",
       "      <th>b'--u09WAjW741FdfkJXxNmg'</th>\n",
       "      <td>-0.881356</td>\n",
       "      <td>-0.813559</td>\n",
       "    </tr>\n",
       "    <tr>\n",
       "      <th>b'-0KrCHEsOcjJ6N4k_k1A9A'</th>\n",
       "      <td>-0.818182</td>\n",
       "      <td>-0.878788</td>\n",
       "    </tr>\n",
       "    <tr>\n",
       "      <th>b'-1C-Lu0NTlYi4XB82ntKtg'</th>\n",
       "      <td>-0.437500</td>\n",
       "      <td>-0.437500</td>\n",
       "    </tr>\n",
       "    <tr>\n",
       "      <th>b'-1MF2tosrw2WcCxeVNk81Q'</th>\n",
       "      <td>-0.261905</td>\n",
       "      <td>-0.595238</td>\n",
       "    </tr>\n",
       "    <tr>\n",
       "      <th>b'-1awBy86Qgr3aN30_Z3xGw'</th>\n",
       "      <td>-1.404762</td>\n",
       "      <td>-1.595238</td>\n",
       "    </tr>\n",
       "    <tr>\n",
       "      <th>...</th>\n",
       "      <td>...</td>\n",
       "      <td>...</td>\n",
       "    </tr>\n",
       "    <tr>\n",
       "      <th>b'zxyKewY6p0CjnFprEutaog'</th>\n",
       "      <td>-0.921569</td>\n",
       "      <td>-0.921569</td>\n",
       "    </tr>\n",
       "    <tr>\n",
       "      <th>b'zy0el7c-IO4BvjxUgj-ZSw'</th>\n",
       "      <td>-1.181818</td>\n",
       "      <td>-1.121212</td>\n",
       "    </tr>\n",
       "    <tr>\n",
       "      <th>b'zyNrXvJyYdC34tS6BcCykA'</th>\n",
       "      <td>-1.240000</td>\n",
       "      <td>-0.800000</td>\n",
       "    </tr>\n",
       "    <tr>\n",
       "      <th>b'zyvxtbh5eJ86bVgk52Yflg'</th>\n",
       "      <td>-0.958824</td>\n",
       "      <td>-0.864706</td>\n",
       "    </tr>\n",
       "    <tr>\n",
       "      <th>b'zztkCqqgR6VntYbqio4UTQ'</th>\n",
       "      <td>-1.161290</td>\n",
       "      <td>-0.967742</td>\n",
       "    </tr>\n",
       "  </tbody>\n",
       "</table>\n",
       "<p>10109 rows × 2 columns</p>\n",
       "</div>"
      ],
      "text/plain": [
       "                           Barbeque  Bakeries\n",
       "user_id                                      \n",
       "b'--u09WAjW741FdfkJXxNmg' -0.881356 -0.813559\n",
       "b'-0KrCHEsOcjJ6N4k_k1A9A' -0.818182 -0.878788\n",
       "b'-1C-Lu0NTlYi4XB82ntKtg' -0.437500 -0.437500\n",
       "b'-1MF2tosrw2WcCxeVNk81Q' -0.261905 -0.595238\n",
       "b'-1awBy86Qgr3aN30_Z3xGw' -1.404762 -1.595238\n",
       "...                             ...       ...\n",
       "b'zxyKewY6p0CjnFprEutaog' -0.921569 -0.921569\n",
       "b'zy0el7c-IO4BvjxUgj-ZSw' -1.181818 -1.121212\n",
       "b'zyNrXvJyYdC34tS6BcCykA' -1.240000 -0.800000\n",
       "b'zyvxtbh5eJ86bVgk52Yflg' -0.958824 -0.864706\n",
       "b'zztkCqqgR6VntYbqio4UTQ' -1.161290 -0.967742\n",
       "\n",
       "[10109 rows x 2 columns]"
      ]
     },
     "execution_count": 23,
     "metadata": {},
     "output_type": "execute_result"
    }
   ],
   "source": [
    "user_data_top[['Barbeque','Bakeries']]"
   ]
  },
  {
   "cell_type": "code",
   "execution_count": 14,
   "id": "c32ce43d-c07d-4745-b7ab-bc0f21910af5",
   "metadata": {
    "tags": []
   },
   "outputs": [
    {
     "data": {
      "image/png": "[encoded data removed]",
      "text/plain": [
       "<Figure size 1900x1500 with 2 Axes>"
      ]
     },
     "metadata": {},
     "output_type": "display_data"
    }
   ],
   "source": [
    "f = plt.figure(figsize=(19, 15))\n",
    "plt.matshow(user_data_top.corr(), fignum=f.number)\n",
    "# plt.xticks(range(df.select_dtypes(['number']).shape[1]), d.select_dtypes(['number']).columns, fontsize=14, rotation=45)\n",
    "# plt.yticks(range(df.select_dtypes(['number']).shape[1]), df.select_dtypes(['number']).columns, fontsize=14)\n",
    "cb = plt.colorbar()\n",
    "cb.ax.tick_params(labelsize=14)\n",
    "plt.title('Correlation Matrix', fontsize=16);"
   ]
  },
  {
   "cell_type": "markdown",
   "id": "0e94952e-d775-4fe2-9192-2e172c5ef360",
   "metadata": {},
   "source": [
    "## Try DBSCAN"
   ]
  },
  {
   "cell_type": "code",
   "execution_count": 32,
   "id": "f308253c-4d40-4658-87fb-67966699bab3",
   "metadata": {
    "tags": []
   },
   "outputs": [],
   "source": [
    "from sklearn.cluster import DBSCAN\n",
    "from sklearn import metrics\n",
    "from sklearn.preprocessing import StandardScaler\n"
   ]
  },
  {
   "cell_type": "code",
   "execution_count": 33,
   "id": "55cd53cf-3ef7-4b20-b64e-5410b02f2601",
   "metadata": {
    "tags": []
   },
   "outputs": [],
   "source": [
    "X = StandardScaler().fit_transform(user_data_top)"
   ]
  },
  {
   "cell_type": "code",
   "execution_count": 37,
   "id": "dc9f28c3-f1cc-4f0d-94cc-72fd80d0a7cf",
   "metadata": {
    "tags": []
   },
   "outputs": [],
   "source": [
    "user_top_standard = pd.DataFrame(X,columns = user_data_top.columns, index = user_data_top.index)"
   ]
  },
  {
   "cell_type": "code",
   "execution_count": 38,
   "id": "ed2a819c-b3ac-42fb-9c19-29df05aad0fc",
   "metadata": {
    "tags": []
   },
   "outputs": [
    {
     "data": {
      "text/html": [
       "<div>\n",
       "<style scoped>\n",
       "    .dataframe tbody tr th:only-of-type {\n",
       "        vertical-align: middle;\n",
       "    }\n",
       "\n",
       "    .dataframe tbody tr th {\n",
       "        vertical-align: top;\n",
       "    }\n",
       "\n",
       "    .dataframe thead th {\n",
       "        text-align: right;\n",
       "    }\n",
       "</style>\n",
       "<table border=\"1\" class=\"dataframe\">\n",
       "  <thead>\n",
       "    <tr style=\"text-align: right;\">\n",
       "      <th></th>\n",
       "      <th>American (New)</th>\n",
       "      <th>American (Traditional)</th>\n",
       "      <th>Bakeries</th>\n",
       "      <th>Barbeque</th>\n",
       "      <th>Bars</th>\n",
       "      <th>Beer</th>\n",
       "      <th>Breakfast &amp; Brunch</th>\n",
       "      <th>Burgers</th>\n",
       "      <th>Cafes</th>\n",
       "      <th>Caterers</th>\n",
       "      <th>...</th>\n",
       "      <th>Music.video</th>\n",
       "      <th>Music.karaoke</th>\n",
       "      <th>BestNights.monday</th>\n",
       "      <th>BestNights.tuesday</th>\n",
       "      <th>BestNights.wednesday</th>\n",
       "      <th>BestNights.thursday</th>\n",
       "      <th>BestNights.friday</th>\n",
       "      <th>BestNights.saturday</th>\n",
       "      <th>BestNights.sunday</th>\n",
       "      <th>num_businesses</th>\n",
       "    </tr>\n",
       "    <tr>\n",
       "      <th>user_id</th>\n",
       "      <th></th>\n",
       "      <th></th>\n",
       "      <th></th>\n",
       "      <th></th>\n",
       "      <th></th>\n",
       "      <th></th>\n",
       "      <th></th>\n",
       "      <th></th>\n",
       "      <th></th>\n",
       "      <th></th>\n",
       "      <th></th>\n",
       "      <th></th>\n",
       "      <th></th>\n",
       "      <th></th>\n",
       "      <th></th>\n",
       "      <th></th>\n",
       "      <th></th>\n",
       "      <th></th>\n",
       "      <th></th>\n",
       "      <th></th>\n",
       "      <th></th>\n",
       "    </tr>\n",
       "  </thead>\n",
       "  <tbody>\n",
       "    <tr>\n",
       "      <th>b'--u09WAjW741FdfkJXxNmg'</th>\n",
       "      <td>0.434758</td>\n",
       "      <td>-0.806088</td>\n",
       "      <td>-0.090526</td>\n",
       "      <td>-0.193387</td>\n",
       "      <td>0.463020</td>\n",
       "      <td>-0.135139</td>\n",
       "      <td>0.085712</td>\n",
       "      <td>-0.302359</td>\n",
       "      <td>0.729303</td>\n",
       "      <td>-0.307555</td>\n",
       "      <td>...</td>\n",
       "      <td>0.337578</td>\n",
       "      <td>0.283824</td>\n",
       "      <td>0.272238</td>\n",
       "      <td>0.235826</td>\n",
       "      <td>0.281291</td>\n",
       "      <td>0.211890</td>\n",
       "      <td>0.026035</td>\n",
       "      <td>-0.002545</td>\n",
       "      <td>0.212661</td>\n",
       "      <td>-0.048133</td>\n",
       "    </tr>\n",
       "    <tr>\n",
       "      <th>b'-0KrCHEsOcjJ6N4k_k1A9A'</th>\n",
       "      <td>0.269425</td>\n",
       "      <td>-0.550769</td>\n",
       "      <td>-0.245675</td>\n",
       "      <td>-0.045372</td>\n",
       "      <td>-0.450731</td>\n",
       "      <td>-0.837801</td>\n",
       "      <td>-1.226555</td>\n",
       "      <td>-0.386191</td>\n",
       "      <td>-0.817276</td>\n",
       "      <td>-0.942853</td>\n",
       "      <td>...</td>\n",
       "      <td>-1.399625</td>\n",
       "      <td>0.283824</td>\n",
       "      <td>-1.587749</td>\n",
       "      <td>2.109424</td>\n",
       "      <td>-1.584101</td>\n",
       "      <td>-1.648373</td>\n",
       "      <td>-1.850401</td>\n",
       "      <td>1.879073</td>\n",
       "      <td>-1.634616</td>\n",
       "      <td>-0.606825</td>\n",
       "    </tr>\n",
       "    <tr>\n",
       "      <th>b'-1C-Lu0NTlYi4XB82ntKtg'</th>\n",
       "      <td>0.890485</td>\n",
       "      <td>0.443351</td>\n",
       "      <td>0.803945</td>\n",
       "      <td>0.846559</td>\n",
       "      <td>1.341532</td>\n",
       "      <td>1.033261</td>\n",
       "      <td>1.634156</td>\n",
       "      <td>0.794587</td>\n",
       "      <td>0.581308</td>\n",
       "      <td>0.980027</td>\n",
       "      <td>...</td>\n",
       "      <td>3.920557</td>\n",
       "      <td>4.438469</td>\n",
       "      <td>0.272238</td>\n",
       "      <td>0.235826</td>\n",
       "      <td>0.281291</td>\n",
       "      <td>0.211890</td>\n",
       "      <td>0.026035</td>\n",
       "      <td>-0.002545</td>\n",
       "      <td>0.212661</td>\n",
       "      <td>-0.628313</td>\n",
       "    </tr>\n",
       "    <tr>\n",
       "      <th>b'-1MF2tosrw2WcCxeVNk81Q'</th>\n",
       "      <td>-0.049652</td>\n",
       "      <td>0.498487</td>\n",
       "      <td>0.428759</td>\n",
       "      <td>1.257976</td>\n",
       "      <td>-0.204935</td>\n",
       "      <td>0.683410</td>\n",
       "      <td>0.401545</td>\n",
       "      <td>0.499936</td>\n",
       "      <td>0.581308</td>\n",
       "      <td>0.568626</td>\n",
       "      <td>...</td>\n",
       "      <td>0.337578</td>\n",
       "      <td>0.283824</td>\n",
       "      <td>0.272238</td>\n",
       "      <td>0.235826</td>\n",
       "      <td>0.281291</td>\n",
       "      <td>0.211890</td>\n",
       "      <td>0.026035</td>\n",
       "      <td>-0.002545</td>\n",
       "      <td>0.212661</td>\n",
       "      <td>-0.413432</td>\n",
       "    </tr>\n",
       "    <tr>\n",
       "      <th>b'-1awBy86Qgr3aN30_Z3xGw'</th>\n",
       "      <td>0.666643</td>\n",
       "      <td>0.792546</td>\n",
       "      <td>-1.949779</td>\n",
       "      <td>-1.419719</td>\n",
       "      <td>0.122793</td>\n",
       "      <td>-1.698557</td>\n",
       "      <td>-0.468533</td>\n",
       "      <td>-0.264566</td>\n",
       "      <td>-1.675867</td>\n",
       "      <td>-1.814662</td>\n",
       "      <td>...</td>\n",
       "      <td>0.337578</td>\n",
       "      <td>0.283824</td>\n",
       "      <td>0.272238</td>\n",
       "      <td>0.235826</td>\n",
       "      <td>0.281291</td>\n",
       "      <td>0.211890</td>\n",
       "      <td>0.026035</td>\n",
       "      <td>-0.002545</td>\n",
       "      <td>0.212661</td>\n",
       "      <td>-0.413432</td>\n",
       "    </tr>\n",
       "    <tr>\n",
       "      <th>...</th>\n",
       "      <td>...</td>\n",
       "      <td>...</td>\n",
       "      <td>...</td>\n",
       "      <td>...</td>\n",
       "      <td>...</td>\n",
       "      <td>...</td>\n",
       "      <td>...</td>\n",
       "      <td>...</td>\n",
       "      <td>...</td>\n",
       "      <td>...</td>\n",
       "      <td>...</td>\n",
       "      <td>...</td>\n",
       "      <td>...</td>\n",
       "      <td>...</td>\n",
       "      <td>...</td>\n",
       "      <td>...</td>\n",
       "      <td>...</td>\n",
       "      <td>...</td>\n",
       "      <td>...</td>\n",
       "      <td>...</td>\n",
       "      <td>...</td>\n",
       "    </tr>\n",
       "    <tr>\n",
       "      <th>b'zxyKewY6p0CjnFprEutaog'</th>\n",
       "      <td>-0.728025</td>\n",
       "      <td>0.450918</td>\n",
       "      <td>-0.347430</td>\n",
       "      <td>-0.287605</td>\n",
       "      <td>0.089057</td>\n",
       "      <td>-0.588140</td>\n",
       "      <td>-0.336315</td>\n",
       "      <td>-0.290799</td>\n",
       "      <td>-0.568244</td>\n",
       "      <td>-0.416066</td>\n",
       "      <td>...</td>\n",
       "      <td>0.337578</td>\n",
       "      <td>0.283824</td>\n",
       "      <td>0.272238</td>\n",
       "      <td>0.235826</td>\n",
       "      <td>0.281291</td>\n",
       "      <td>0.211890</td>\n",
       "      <td>0.026035</td>\n",
       "      <td>-0.002545</td>\n",
       "      <td>0.212661</td>\n",
       "      <td>-0.220038</td>\n",
       "    </tr>\n",
       "    <tr>\n",
       "      <th>b'zy0el7c-IO4BvjxUgj-ZSw'</th>\n",
       "      <td>-2.283188</td>\n",
       "      <td>-1.673539</td>\n",
       "      <td>-0.822290</td>\n",
       "      <td>-0.897365</td>\n",
       "      <td>-1.910611</td>\n",
       "      <td>-1.292540</td>\n",
       "      <td>-1.041993</td>\n",
       "      <td>-0.386191</td>\n",
       "      <td>-0.968474</td>\n",
       "      <td>-0.798411</td>\n",
       "      <td>...</td>\n",
       "      <td>0.337578</td>\n",
       "      <td>0.283824</td>\n",
       "      <td>0.272238</td>\n",
       "      <td>0.235826</td>\n",
       "      <td>0.281291</td>\n",
       "      <td>0.211890</td>\n",
       "      <td>0.026035</td>\n",
       "      <td>-0.002545</td>\n",
       "      <td>0.212661</td>\n",
       "      <td>-0.606825</td>\n",
       "    </tr>\n",
       "    <tr>\n",
       "      <th>b'zyNrXvJyYdC34tS6BcCykA'</th>\n",
       "      <td>-1.192858</td>\n",
       "      <td>-1.239401</td>\n",
       "      <td>-0.058275</td>\n",
       "      <td>-1.033684</td>\n",
       "      <td>-0.404849</td>\n",
       "      <td>-0.386093</td>\n",
       "      <td>-0.071197</td>\n",
       "      <td>-0.710525</td>\n",
       "      <td>-1.165032</td>\n",
       "      <td>-0.986186</td>\n",
       "      <td>...</td>\n",
       "      <td>0.337578</td>\n",
       "      <td>0.283824</td>\n",
       "      <td>0.272238</td>\n",
       "      <td>0.235826</td>\n",
       "      <td>0.281291</td>\n",
       "      <td>0.211890</td>\n",
       "      <td>0.026035</td>\n",
       "      <td>-0.002545</td>\n",
       "      <td>0.212661</td>\n",
       "      <td>-0.241526</td>\n",
       "    </tr>\n",
       "    <tr>\n",
       "      <th>b'zyvxtbh5eJ86bVgk52Yflg'</th>\n",
       "      <td>-0.262012</td>\n",
       "      <td>-0.669100</td>\n",
       "      <td>-0.212180</td>\n",
       "      <td>-0.374893</td>\n",
       "      <td>0.109299</td>\n",
       "      <td>0.064098</td>\n",
       "      <td>-0.390055</td>\n",
       "      <td>-0.411470</td>\n",
       "      <td>-0.534002</td>\n",
       "      <td>-0.271199</td>\n",
       "      <td>...</td>\n",
       "      <td>-0.674087</td>\n",
       "      <td>-0.107202</td>\n",
       "      <td>-0.449874</td>\n",
       "      <td>0.963223</td>\n",
       "      <td>-0.442920</td>\n",
       "      <td>-0.510330</td>\n",
       "      <td>-0.702464</td>\n",
       "      <td>0.727965</td>\n",
       "      <td>-0.504517</td>\n",
       "      <td>2.337051</td>\n",
       "    </tr>\n",
       "    <tr>\n",
       "      <th>b'zztkCqqgR6VntYbqio4UTQ'</th>\n",
       "      <td>-0.098175</td>\n",
       "      <td>-0.390804</td>\n",
       "      <td>-0.457255</td>\n",
       "      <td>-0.849269</td>\n",
       "      <td>0.918327</td>\n",
       "      <td>-0.605541</td>\n",
       "      <td>-0.527006</td>\n",
       "      <td>-0.451581</td>\n",
       "      <td>-0.585601</td>\n",
       "      <td>-0.432648</td>\n",
       "      <td>...</td>\n",
       "      <td>0.337578</td>\n",
       "      <td>0.283824</td>\n",
       "      <td>0.272238</td>\n",
       "      <td>0.235826</td>\n",
       "      <td>0.281291</td>\n",
       "      <td>0.211890</td>\n",
       "      <td>0.026035</td>\n",
       "      <td>-0.002545</td>\n",
       "      <td>0.212661</td>\n",
       "      <td>-0.649801</td>\n",
       "    </tr>\n",
       "  </tbody>\n",
       "</table>\n",
       "<p>10109 rows × 96 columns</p>\n",
       "</div>"
      ],
      "text/plain": [
       "                           American (New)  American (Traditional)  Bakeries  \\\n",
       "user_id                                                                       \n",
       "b'--u09WAjW741FdfkJXxNmg'        0.434758               -0.806088 -0.090526   \n",
       "b'-0KrCHEsOcjJ6N4k_k1A9A'        0.269425               -0.550769 -0.245675   \n",
       "b'-1C-Lu0NTlYi4XB82ntKtg'        0.890485                0.443351  0.803945   \n",
       "b'-1MF2tosrw2WcCxeVNk81Q'       -0.049652                0.498487  0.428759   \n",
       "b'-1awBy86Qgr3aN30_Z3xGw'        0.666643                0.792546 -1.949779   \n",
       "...                                   ...                     ...       ...   \n",
       "b'zxyKewY6p0CjnFprEutaog'       -0.728025                0.450918 -0.347430   \n",
       "b'zy0el7c-IO4BvjxUgj-ZSw'       -2.283188               -1.673539 -0.822290   \n",
       "b'zyNrXvJyYdC34tS6BcCykA'       -1.192858               -1.239401 -0.058275   \n",
       "b'zyvxtbh5eJ86bVgk52Yflg'       -0.262012               -0.669100 -0.212180   \n",
       "b'zztkCqqgR6VntYbqio4UTQ'       -0.098175               -0.390804 -0.457255   \n",
       "\n",
       "                           Barbeque      Bars      Beer  Breakfast & Brunch  \\\n",
       "user_id                                                                       \n",
       "b'--u09WAjW741FdfkJXxNmg' -0.193387  0.463020 -0.135139            0.085712   \n",
       "b'-0KrCHEsOcjJ6N4k_k1A9A' -0.045372 -0.450731 -0.837801           -1.226555   \n",
       "b'-1C-Lu0NTlYi4XB82ntKtg'  0.846559  1.341532  1.033261            1.634156   \n",
       "b'-1MF2tosrw2WcCxeVNk81Q'  1.257976 -0.204935  0.683410            0.401545   \n",
       "b'-1awBy86Qgr3aN30_Z3xGw' -1.419719  0.122793 -1.698557           -0.468533   \n",
       "...                             ...       ...       ...                 ...   \n",
       "b'zxyKewY6p0CjnFprEutaog' -0.287605  0.089057 -0.588140           -0.336315   \n",
       "b'zy0el7c-IO4BvjxUgj-ZSw' -0.897365 -1.910611 -1.292540           -1.041993   \n",
       "b'zyNrXvJyYdC34tS6BcCykA' -1.033684 -0.404849 -0.386093           -0.071197   \n",
       "b'zyvxtbh5eJ86bVgk52Yflg' -0.374893  0.109299  0.064098           -0.390055   \n",
       "b'zztkCqqgR6VntYbqio4UTQ' -0.849269  0.918327 -0.605541           -0.527006   \n",
       "\n",
       "                            Burgers     Cafes  Caterers  ...  Music.video  \\\n",
       "user_id                                                  ...                \n",
       "b'--u09WAjW741FdfkJXxNmg' -0.302359  0.729303 -0.307555  ...     0.337578   \n",
       "b'-0KrCHEsOcjJ6N4k_k1A9A' -0.386191 -0.817276 -0.942853  ...    -1.399625   \n",
       "b'-1C-Lu0NTlYi4XB82ntKtg'  0.794587  0.581308  0.980027  ...     3.920557   \n",
       "b'-1MF2tosrw2WcCxeVNk81Q'  0.499936  0.581308  0.568626  ...     0.337578   \n",
       "b'-1awBy86Qgr3aN30_Z3xGw' -0.264566 -1.675867 -1.814662  ...     0.337578   \n",
       "...                             ...       ...       ...  ...          ...   \n",
       "b'zxyKewY6p0CjnFprEutaog' -0.290799 -0.568244 -0.416066  ...     0.337578   \n",
       "b'zy0el7c-IO4BvjxUgj-ZSw' -0.386191 -0.968474 -0.798411  ...     0.337578   \n",
       "b'zyNrXvJyYdC34tS6BcCykA' -0.710525 -1.165032 -0.986186  ...     0.337578   \n",
       "b'zyvxtbh5eJ86bVgk52Yflg' -0.411470 -0.534002 -0.271199  ...    -0.674087   \n",
       "b'zztkCqqgR6VntYbqio4UTQ' -0.451581 -0.585601 -0.432648  ...     0.337578   \n",
       "\n",
       "                           Music.karaoke  BestNights.monday  \\\n",
       "user_id                                                       \n",
       "b'--u09WAjW741FdfkJXxNmg'       0.283824           0.272238   \n",
       "b'-0KrCHEsOcjJ6N4k_k1A9A'       0.283824          -1.587749   \n",
       "b'-1C-Lu0NTlYi4XB82ntKtg'       4.438469           0.272238   \n",
       "b'-1MF2tosrw2WcCxeVNk81Q'       0.283824           0.272238   \n",
       "b'-1awBy86Qgr3aN30_Z3xGw'       0.283824           0.272238   \n",
       "...                                  ...                ...   \n",
       "b'zxyKewY6p0CjnFprEutaog'       0.283824           0.272238   \n",
       "b'zy0el7c-IO4BvjxUgj-ZSw'       0.283824           0.272238   \n",
       "b'zyNrXvJyYdC34tS6BcCykA'       0.283824           0.272238   \n",
       "b'zyvxtbh5eJ86bVgk52Yflg'      -0.107202          -0.449874   \n",
       "b'zztkCqqgR6VntYbqio4UTQ'       0.283824           0.272238   \n",
       "\n",
       "                           BestNights.tuesday  BestNights.wednesday  \\\n",
       "user_id                                                               \n",
       "b'--u09WAjW741FdfkJXxNmg'            0.235826              0.281291   \n",
       "b'-0KrCHEsOcjJ6N4k_k1A9A'            2.109424             -1.584101   \n",
       "b'-1C-Lu0NTlYi4XB82ntKtg'            0.235826              0.281291   \n",
       "b'-1MF2tosrw2WcCxeVNk81Q'            0.235826              0.281291   \n",
       "b'-1awBy86Qgr3aN30_Z3xGw'            0.235826              0.281291   \n",
       "...                                       ...                   ...   \n",
       "b'zxyKewY6p0CjnFprEutaog'            0.235826              0.281291   \n",
       "b'zy0el7c-IO4BvjxUgj-ZSw'            0.235826              0.281291   \n",
       "b'zyNrXvJyYdC34tS6BcCykA'            0.235826              0.281291   \n",
       "b'zyvxtbh5eJ86bVgk52Yflg'            0.963223             -0.442920   \n",
       "b'zztkCqqgR6VntYbqio4UTQ'            0.235826              0.281291   \n",
       "\n",
       "                           BestNights.thursday  BestNights.friday  \\\n",
       "user_id                                                             \n",
       "b'--u09WAjW741FdfkJXxNmg'             0.211890           0.026035   \n",
       "b'-0KrCHEsOcjJ6N4k_k1A9A'            -1.648373          -1.850401   \n",
       "b'-1C-Lu0NTlYi4XB82ntKtg'             0.211890           0.026035   \n",
       "b'-1MF2tosrw2WcCxeVNk81Q'             0.211890           0.026035   \n",
       "b'-1awBy86Qgr3aN30_Z3xGw'             0.211890           0.026035   \n",
       "...                                        ...                ...   \n",
       "b'zxyKewY6p0CjnFprEutaog'             0.211890           0.026035   \n",
       "b'zy0el7c-IO4BvjxUgj-ZSw'             0.211890           0.026035   \n",
       "b'zyNrXvJyYdC34tS6BcCykA'             0.211890           0.026035   \n",
       "b'zyvxtbh5eJ86bVgk52Yflg'            -0.510330          -0.702464   \n",
       "b'zztkCqqgR6VntYbqio4UTQ'             0.211890           0.026035   \n",
       "\n",
       "                           BestNights.saturday  BestNights.sunday  \\\n",
       "user_id                                                             \n",
       "b'--u09WAjW741FdfkJXxNmg'            -0.002545           0.212661   \n",
       "b'-0KrCHEsOcjJ6N4k_k1A9A'             1.879073          -1.634616   \n",
       "b'-1C-Lu0NTlYi4XB82ntKtg'            -0.002545           0.212661   \n",
       "b'-1MF2tosrw2WcCxeVNk81Q'            -0.002545           0.212661   \n",
       "b'-1awBy86Qgr3aN30_Z3xGw'            -0.002545           0.212661   \n",
       "...                                        ...                ...   \n",
       "b'zxyKewY6p0CjnFprEutaog'            -0.002545           0.212661   \n",
       "b'zy0el7c-IO4BvjxUgj-ZSw'            -0.002545           0.212661   \n",
       "b'zyNrXvJyYdC34tS6BcCykA'            -0.002545           0.212661   \n",
       "b'zyvxtbh5eJ86bVgk52Yflg'             0.727965          -0.504517   \n",
       "b'zztkCqqgR6VntYbqio4UTQ'            -0.002545           0.212661   \n",
       "\n",
       "                           num_businesses  \n",
       "user_id                                    \n",
       "b'--u09WAjW741FdfkJXxNmg'       -0.048133  \n",
       "b'-0KrCHEsOcjJ6N4k_k1A9A'       -0.606825  \n",
       "b'-1C-Lu0NTlYi4XB82ntKtg'       -0.628313  \n",
       "b'-1MF2tosrw2WcCxeVNk81Q'       -0.413432  \n",
       "b'-1awBy86Qgr3aN30_Z3xGw'       -0.413432  \n",
       "...                                   ...  \n",
       "b'zxyKewY6p0CjnFprEutaog'       -0.220038  \n",
       "b'zy0el7c-IO4BvjxUgj-ZSw'       -0.606825  \n",
       "b'zyNrXvJyYdC34tS6BcCykA'       -0.241526  \n",
       "b'zyvxtbh5eJ86bVgk52Yflg'        2.337051  \n",
       "b'zztkCqqgR6VntYbqio4UTQ'       -0.649801  \n",
       "\n",
       "[10109 rows x 96 columns]"
      ]
     },
     "execution_count": 38,
     "metadata": {},
     "output_type": "execute_result"
    }
   ],
   "source": []
  },
  {
   "cell_type": "code",
   "execution_count": 116,
   "id": "47cd74f1-83d7-49fc-85a4-8e0ecd4bd5cd",
   "metadata": {
    "tags": []
   },
   "outputs": [
    {
     "name": "stdout",
     "output_type": "stream",
     "text": [
      "Estimated number of clusters: 8\n",
      "Estimated number of noise points: 7824\n"
     ]
    }
   ],
   "source": [
    "db = DBSCAN(eps=0.1, min_samples=10).fit(user_top_hivar.iloc[:,:5])\n",
    "labels = db.labels_\n",
    "\n",
    "# Number of clusters in labels, ignoring noise if present.\n",
    "n_clusters_ = len(set(labels)) - (1 if -1 in labels else 0)\n",
    "n_noise_ = list(labels).count(-1)\n",
    "\n",
    "print(\"Estimated number of clusters: %d\" % n_clusters_)\n",
    "print(\"Estimated number of noise points: %d\" % n_noise_)"
   ]
  },
  {
   "cell_type": "code",
   "execution_count": 117,
   "id": "9e6e5e19-b870-4694-bee5-8ee353dce1e5",
   "metadata": {
    "tags": []
   },
   "outputs": [
    {
     "data": {
      "text/plain": [
       "array([-1,  0,  1,  2,  3,  4,  5,  6,  7])"
      ]
     },
     "execution_count": 117,
     "metadata": {},
     "output_type": "execute_result"
    }
   ],
   "source": [
    "np.unique(db.labels_)"
   ]
  },
  {
   "cell_type": "code",
   "execution_count": 126,
   "id": "c15a1507-f925-4684-9e76-212036cfe616",
   "metadata": {
    "tags": []
   },
   "outputs": [
    {
     "data": {
      "text/plain": [
       "11"
      ]
     },
     "execution_count": 126,
     "metadata": {},
     "output_type": "execute_result"
    }
   ],
   "source": [
    "np.sum(db.labels_ == 5)"
   ]
  },
  {
   "cell_type": "code",
   "execution_count": null,
   "id": "56585652-141a-414a-a9c8-b5b9feed66f5",
   "metadata": {},
   "outputs": [],
   "source": []
  }
 ],
 "metadata": {
  "kernelspec": {
   "display_name": "Python 3 (ipykernel)",
   "language": "python",
   "name": "python3"
  },
  "language_info": {
   "codemirror_mode": {
    "name": "ipython",
    "version": 3
   },
   "file_extension": ".py",
   "mimetype": "text/x-python",
   "name": "python",
   "nbconvert_exporter": "python",
   "pygments_lexer": "ipython3",
   "version": "3.11.0"
  }
 },
 "nbformat": 4,
 "nbformat_minor": 5
}
