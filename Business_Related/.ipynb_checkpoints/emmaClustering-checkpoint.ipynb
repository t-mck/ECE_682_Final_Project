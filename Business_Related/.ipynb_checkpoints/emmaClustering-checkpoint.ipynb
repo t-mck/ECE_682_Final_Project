{
 "cells": [
  {
   "cell_type": "markdown",
   "id": "e18bf280",
   "metadata": {},
   "source": [
    "# Preliminary EDA - Business Dataset"
   ]
  },
  {
   "cell_type": "markdown",
   "id": "71396c50",
   "metadata": {},
   "source": [
    "TO DO:\n",
    "    \n",
    "emma - filter by is open, is rest. (done -- use open_restaurants df, will work on the filtering for is_restaurant more though to make sure we aren't excluding any)<br> \n",
    "Julia - expand attributes &  categories, <br>\n",
    "no hours,address, name for training -- more for final result"
   ]
  },
  {
   "cell_type": "markdown",
   "id": "faa5073c-068b-44bd-bad7-be05f6a5b9e8",
   "metadata": {},
   "source": [
    "## Import Dataset"
   ]
  },
  {
   "cell_type": "code",
   "execution_count": 3,
   "id": "3d1e01f8",
   "metadata": {
    "tags": []
   },
   "outputs": [],
   "source": [
    "import pandas as pd\n",
    "import seaborn as sns\n",
    "import numpy as np"
   ]
  },
  {
   "cell_type": "code",
   "execution_count": 5,
   "id": "f366a897",
   "metadata": {
    "tags": []
   },
   "outputs": [],
   "source": [
    "# import the data (chunksize returns jsonReader for iteration)\n",
    "\n",
    "# TODO: change the file/folder below for the json once in github !!\n",
    "businesses = pd.read_json('yelp_academic_dataset_business.json', lines=True)"
   ]
  },
  {
   "cell_type": "code",
   "execution_count": 6,
   "id": "981488d1",
   "metadata": {
    "tags": []
   },
   "outputs": [],
   "source": [
    "def basic_details(df):\n",
    "    print('Row:{}, columns:{}'.format(df.shape[0],df.shape[1]))\n",
    "    k = pd.DataFrame()\n",
    "    #k['number of Unique value'] = df.nunique()\n",
    "    k['Number of missing value'] = df.isnull().sum()\n",
    "    k['Data type'] = df.dtypes\n",
    "    return k"
   ]
  },
  {
   "cell_type": "markdown",
   "id": "d5710701-b177-48b3-bbd6-761025666953",
   "metadata": {
    "jp-MarkdownHeadingCollapsed": true,
    "tags": []
   },
   "source": [
    "## Initial Perusal of Business Dataset"
   ]
  },
  {
   "cell_type": "code",
   "execution_count": 7,
   "id": "07ad0209",
   "metadata": {
    "tags": []
   },
   "outputs": [
    {
     "name": "stdout",
     "output_type": "stream",
     "text": [
      "Row:150346, columns:14\n"
     ]
    },
    {
     "data": {
      "text/html": [
       "<div>\n",
       "<style scoped>\n",
       "    .dataframe tbody tr th:only-of-type {\n",
       "        vertical-align: middle;\n",
       "    }\n",
       "\n",
       "    .dataframe tbody tr th {\n",
       "        vertical-align: top;\n",
       "    }\n",
       "\n",
       "    .dataframe thead th {\n",
       "        text-align: right;\n",
       "    }\n",
       "</style>\n",
       "<table border=\"1\" class=\"dataframe\">\n",
       "  <thead>\n",
       "    <tr style=\"text-align: right;\">\n",
       "      <th></th>\n",
       "      <th>Number of missing value</th>\n",
       "      <th>Data type</th>\n",
       "    </tr>\n",
       "  </thead>\n",
       "  <tbody>\n",
       "    <tr>\n",
       "      <th>business_id</th>\n",
       "      <td>0</td>\n",
       "      <td>object</td>\n",
       "    </tr>\n",
       "    <tr>\n",
       "      <th>name</th>\n",
       "      <td>0</td>\n",
       "      <td>object</td>\n",
       "    </tr>\n",
       "    <tr>\n",
       "      <th>address</th>\n",
       "      <td>0</td>\n",
       "      <td>object</td>\n",
       "    </tr>\n",
       "    <tr>\n",
       "      <th>city</th>\n",
       "      <td>0</td>\n",
       "      <td>object</td>\n",
       "    </tr>\n",
       "    <tr>\n",
       "      <th>state</th>\n",
       "      <td>0</td>\n",
       "      <td>object</td>\n",
       "    </tr>\n",
       "    <tr>\n",
       "      <th>postal_code</th>\n",
       "      <td>0</td>\n",
       "      <td>object</td>\n",
       "    </tr>\n",
       "    <tr>\n",
       "      <th>latitude</th>\n",
       "      <td>0</td>\n",
       "      <td>float64</td>\n",
       "    </tr>\n",
       "    <tr>\n",
       "      <th>longitude</th>\n",
       "      <td>0</td>\n",
       "      <td>float64</td>\n",
       "    </tr>\n",
       "    <tr>\n",
       "      <th>stars</th>\n",
       "      <td>0</td>\n",
       "      <td>float64</td>\n",
       "    </tr>\n",
       "    <tr>\n",
       "      <th>review_count</th>\n",
       "      <td>0</td>\n",
       "      <td>int64</td>\n",
       "    </tr>\n",
       "    <tr>\n",
       "      <th>is_open</th>\n",
       "      <td>0</td>\n",
       "      <td>int64</td>\n",
       "    </tr>\n",
       "    <tr>\n",
       "      <th>attributes</th>\n",
       "      <td>13744</td>\n",
       "      <td>object</td>\n",
       "    </tr>\n",
       "    <tr>\n",
       "      <th>categories</th>\n",
       "      <td>103</td>\n",
       "      <td>object</td>\n",
       "    </tr>\n",
       "    <tr>\n",
       "      <th>hours</th>\n",
       "      <td>23223</td>\n",
       "      <td>object</td>\n",
       "    </tr>\n",
       "  </tbody>\n",
       "</table>\n",
       "</div>"
      ],
      "text/plain": [
       "              Number of missing value Data type\n",
       "business_id                         0    object\n",
       "name                                0    object\n",
       "address                             0    object\n",
       "city                                0    object\n",
       "state                               0    object\n",
       "postal_code                         0    object\n",
       "latitude                            0   float64\n",
       "longitude                           0   float64\n",
       "stars                               0   float64\n",
       "review_count                        0     int64\n",
       "is_open                             0     int64\n",
       "attributes                      13744    object\n",
       "categories                        103    object\n",
       "hours                           23223    object"
      ]
     },
     "execution_count": 7,
     "metadata": {},
     "output_type": "execute_result"
    }
   ],
   "source": [
    "basic_details(businesses)"
   ]
  },
  {
   "cell_type": "code",
   "execution_count": 8,
   "id": "b394ab84",
   "metadata": {
    "tags": []
   },
   "outputs": [
    {
     "data": {
      "text/plain": [
       "city              state\n",
       "Philadelphia      PA       14567\n",
       "Tucson            AZ        9249\n",
       "Tampa             FL        9048\n",
       "Indianapolis      IN        7540\n",
       "Nashville         TN        6968\n",
       "New Orleans       LA        6208\n",
       "Reno              NV        5932\n",
       "Edmonton          AB        5054\n",
       "Saint Louis       MO        4827\n",
       "Santa Barbara     CA        3829\n",
       "Boise             ID        2937\n",
       "Clearwater        FL        2221\n",
       "Saint Petersburg  FL        1663\n",
       "Metairie          LA        1643\n",
       "Sparks            NV        1623\n",
       "Wilmington        DE        1445\n",
       "Franklin          TN        1410\n",
       "St. Louis         MO        1254\n",
       "St. Petersburg    FL        1185\n",
       "Meridian          ID        1042\n",
       "dtype: int64"
      ]
     },
     "execution_count": 8,
     "metadata": {},
     "output_type": "execute_result"
    }
   ],
   "source": [
    "businesses[['city','state']].value_counts()[:20]"
   ]
  },
  {
   "cell_type": "code",
   "execution_count": 9,
   "id": "4cc0b423",
   "metadata": {
    "tags": []
   },
   "outputs": [
    {
     "data": {
      "text/plain": [
       "<AxesSubplot:xlabel='name'>"
      ]
     },
     "execution_count": 9,
     "metadata": {},
     "output_type": "execute_result"
    },
    {
     "data": {
      "image/png": "[encoded data removed]",
      "text/plain": [
       "<Figure size 640x480 with 1 Axes>"
      ]
     },
     "metadata": {},
     "output_type": "display_data"
    }
   ],
   "source": [
    "# top 20 common restaurants:\n",
    "cnt = businesses['name'].value_counts()[:20].to_frame()\n",
    "sns.barplot(x = cnt['name'], y = cnt.index)"
   ]
  },
  {
   "cell_type": "code",
   "execution_count": 10,
   "id": "85a1555a",
   "metadata": {
    "scrolled": true,
    "tags": []
   },
   "outputs": [
    {
     "data": {
      "text/plain": [
       "<AxesSubplot:xlabel='categories'>"
      ]
     },
     "execution_count": 10,
     "metadata": {},
     "output_type": "execute_result"
    },
    {
     "data": {
      "image/png": "[encoded data removed]",
      "text/plain": [
       "<Figure size 640x480 with 1 Axes>"
      ]
     },
     "metadata": {},
     "output_type": "display_data"
    }
   ],
   "source": [
    "#top 20 common categories\n",
    "cnt = businesses['categories'].value_counts()[:20].to_frame()\n",
    "sns.barplot(x = cnt['categories'], y = cnt.index)"
   ]
  },
  {
   "cell_type": "code",
   "execution_count": 11,
   "id": "39a34da4",
   "metadata": {
    "tags": []
   },
   "outputs": [
    {
     "data": {
      "text/html": [
       "<div>\n",
       "<style scoped>\n",
       "    .dataframe tbody tr th:only-of-type {\n",
       "        vertical-align: middle;\n",
       "    }\n",
       "\n",
       "    .dataframe tbody tr th {\n",
       "        vertical-align: top;\n",
       "    }\n",
       "\n",
       "    .dataframe thead th {\n",
       "        text-align: right;\n",
       "    }\n",
       "</style>\n",
       "<table border=\"1\" class=\"dataframe\">\n",
       "  <thead>\n",
       "    <tr style=\"text-align: right;\">\n",
       "      <th></th>\n",
       "      <th>business_id</th>\n",
       "      <th>name</th>\n",
       "      <th>address</th>\n",
       "      <th>city</th>\n",
       "      <th>state</th>\n",
       "      <th>postal_code</th>\n",
       "      <th>latitude</th>\n",
       "      <th>longitude</th>\n",
       "      <th>stars</th>\n",
       "      <th>review_count</th>\n",
       "      <th>is_open</th>\n",
       "      <th>attributes</th>\n",
       "      <th>categories</th>\n",
       "      <th>hours</th>\n",
       "      <th>is_restaurant</th>\n",
       "    </tr>\n",
       "  </thead>\n",
       "  <tbody>\n",
       "    <tr>\n",
       "      <th>0</th>\n",
       "      <td>Pns2l4eNsfO8kk83dixA6A</td>\n",
       "      <td>Abby Rappoport, LAC, CMQ</td>\n",
       "      <td>1616 Chapala St, Ste 2</td>\n",
       "      <td>Santa Barbara</td>\n",
       "      <td>CA</td>\n",
       "      <td>93101</td>\n",
       "      <td>34.426679</td>\n",
       "      <td>-119.711197</td>\n",
       "      <td>5.0</td>\n",
       "      <td>7</td>\n",
       "      <td>0</td>\n",
       "      <td>{'ByAppointmentOnly': 'True'}</td>\n",
       "      <td>Doctors, Traditional Chinese Medicine, Naturop...</td>\n",
       "      <td>None</td>\n",
       "      <td>0</td>\n",
       "    </tr>\n",
       "    <tr>\n",
       "      <th>1</th>\n",
       "      <td>mpf3x-BjTdTEA3yCZrAYPw</td>\n",
       "      <td>The UPS Store</td>\n",
       "      <td>87 Grasso Plaza Shopping Center</td>\n",
       "      <td>Affton</td>\n",
       "      <td>MO</td>\n",
       "      <td>63123</td>\n",
       "      <td>38.551126</td>\n",
       "      <td>-90.335695</td>\n",
       "      <td>3.0</td>\n",
       "      <td>15</td>\n",
       "      <td>1</td>\n",
       "      <td>{'BusinessAcceptsCreditCards': 'True'}</td>\n",
       "      <td>Shipping Centers, Local Services, Notaries, Ma...</td>\n",
       "      <td>{'Monday': '0:0-0:0', 'Tuesday': '8:0-18:30', ...</td>\n",
       "      <td>0</td>\n",
       "    </tr>\n",
       "    <tr>\n",
       "      <th>2</th>\n",
       "      <td>tUFrWirKiKi_TAnsVWINQQ</td>\n",
       "      <td>Target</td>\n",
       "      <td>5255 E Broadway Blvd</td>\n",
       "      <td>Tucson</td>\n",
       "      <td>AZ</td>\n",
       "      <td>85711</td>\n",
       "      <td>32.223236</td>\n",
       "      <td>-110.880452</td>\n",
       "      <td>3.5</td>\n",
       "      <td>22</td>\n",
       "      <td>0</td>\n",
       "      <td>{'BikeParking': 'True', 'BusinessAcceptsCredit...</td>\n",
       "      <td>Department Stores, Shopping, Fashion, Home &amp; G...</td>\n",
       "      <td>{'Monday': '8:0-22:0', 'Tuesday': '8:0-22:0', ...</td>\n",
       "      <td>0</td>\n",
       "    </tr>\n",
       "    <tr>\n",
       "      <th>3</th>\n",
       "      <td>MTSW4McQd7CbVtyjqoe9mw</td>\n",
       "      <td>St Honore Pastries</td>\n",
       "      <td>935 Race St</td>\n",
       "      <td>Philadelphia</td>\n",
       "      <td>PA</td>\n",
       "      <td>19107</td>\n",
       "      <td>39.955505</td>\n",
       "      <td>-75.155564</td>\n",
       "      <td>4.0</td>\n",
       "      <td>80</td>\n",
       "      <td>1</td>\n",
       "      <td>{'RestaurantsDelivery': 'False', 'OutdoorSeati...</td>\n",
       "      <td>Restaurants, Food, Bubble Tea, Coffee &amp; Tea, B...</td>\n",
       "      <td>{'Monday': '7:0-20:0', 'Tuesday': '7:0-20:0', ...</td>\n",
       "      <td>1</td>\n",
       "    </tr>\n",
       "    <tr>\n",
       "      <th>4</th>\n",
       "      <td>mWMc6_wTdE0EUBKIGXDVfA</td>\n",
       "      <td>Perkiomen Valley Brewery</td>\n",
       "      <td>101 Walnut St</td>\n",
       "      <td>Green Lane</td>\n",
       "      <td>PA</td>\n",
       "      <td>18054</td>\n",
       "      <td>40.338183</td>\n",
       "      <td>-75.471659</td>\n",
       "      <td>4.5</td>\n",
       "      <td>13</td>\n",
       "      <td>1</td>\n",
       "      <td>{'BusinessAcceptsCreditCards': 'True', 'Wheelc...</td>\n",
       "      <td>Brewpubs, Breweries, Food</td>\n",
       "      <td>{'Wednesday': '14:0-22:0', 'Thursday': '16:0-2...</td>\n",
       "      <td>0</td>\n",
       "    </tr>\n",
       "  </tbody>\n",
       "</table>\n",
       "</div>"
      ],
      "text/plain": [
       "              business_id                      name  \\\n",
       "0  Pns2l4eNsfO8kk83dixA6A  Abby Rappoport, LAC, CMQ   \n",
       "1  mpf3x-BjTdTEA3yCZrAYPw             The UPS Store   \n",
       "2  tUFrWirKiKi_TAnsVWINQQ                    Target   \n",
       "3  MTSW4McQd7CbVtyjqoe9mw        St Honore Pastries   \n",
       "4  mWMc6_wTdE0EUBKIGXDVfA  Perkiomen Valley Brewery   \n",
       "\n",
       "                           address           city state postal_code  \\\n",
       "0           1616 Chapala St, Ste 2  Santa Barbara    CA       93101   \n",
       "1  87 Grasso Plaza Shopping Center         Affton    MO       63123   \n",
       "2             5255 E Broadway Blvd         Tucson    AZ       85711   \n",
       "3                      935 Race St   Philadelphia    PA       19107   \n",
       "4                    101 Walnut St     Green Lane    PA       18054   \n",
       "\n",
       "    latitude   longitude  stars  review_count  is_open  \\\n",
       "0  34.426679 -119.711197    5.0             7        0   \n",
       "1  38.551126  -90.335695    3.0            15        1   \n",
       "2  32.223236 -110.880452    3.5            22        0   \n",
       "3  39.955505  -75.155564    4.0            80        1   \n",
       "4  40.338183  -75.471659    4.5            13        1   \n",
       "\n",
       "                                          attributes  \\\n",
       "0                      {'ByAppointmentOnly': 'True'}   \n",
       "1             {'BusinessAcceptsCreditCards': 'True'}   \n",
       "2  {'BikeParking': 'True', 'BusinessAcceptsCredit...   \n",
       "3  {'RestaurantsDelivery': 'False', 'OutdoorSeati...   \n",
       "4  {'BusinessAcceptsCreditCards': 'True', 'Wheelc...   \n",
       "\n",
       "                                          categories  \\\n",
       "0  Doctors, Traditional Chinese Medicine, Naturop...   \n",
       "1  Shipping Centers, Local Services, Notaries, Ma...   \n",
       "2  Department Stores, Shopping, Fashion, Home & G...   \n",
       "3  Restaurants, Food, Bubble Tea, Coffee & Tea, B...   \n",
       "4                          Brewpubs, Breweries, Food   \n",
       "\n",
       "                                               hours  is_restaurant  \n",
       "0                                               None              0  \n",
       "1  {'Monday': '0:0-0:0', 'Tuesday': '8:0-18:30', ...              0  \n",
       "2  {'Monday': '8:0-22:0', 'Tuesday': '8:0-22:0', ...              0  \n",
       "3  {'Monday': '7:0-20:0', 'Tuesday': '7:0-20:0', ...              1  \n",
       "4  {'Wednesday': '14:0-22:0', 'Thursday': '16:0-2...              0  "
      ]
     },
     "execution_count": 11,
     "metadata": {},
     "output_type": "execute_result"
    }
   ],
   "source": [
    "#find only restaurant categories -- may need to check if other keywords besides 'Restaurants'\n",
    "def restaurant(row):\n",
    "    if row['categories']:\n",
    "        if 'Restaurants' in row['categories']:\n",
    "            return 1\n",
    "        else:\n",
    "            return 0\n",
    "    return 0\n",
    "\n",
    "businesses['is_restaurant'] = businesses.apply(restaurant, axis = 1)\n",
    "businesses.head()"
   ]
  },
  {
   "cell_type": "code",
   "execution_count": 12,
   "id": "1f48d3b7",
   "metadata": {
    "tags": []
   },
   "outputs": [],
   "source": [
    "open_restaurants = businesses[(businesses['is_restaurant'] == 1) & (businesses['is_open'] == 1)]"
   ]
  },
  {
   "cell_type": "code",
   "execution_count": 13,
   "id": "db82e058",
   "metadata": {
    "tags": []
   },
   "outputs": [
    {
     "name": "stdout",
     "output_type": "stream",
     "text": [
      "Row:34987, columns:15\n"
     ]
    },
    {
     "data": {
      "text/html": [
       "<div>\n",
       "<style scoped>\n",
       "    .dataframe tbody tr th:only-of-type {\n",
       "        vertical-align: middle;\n",
       "    }\n",
       "\n",
       "    .dataframe tbody tr th {\n",
       "        vertical-align: top;\n",
       "    }\n",
       "\n",
       "    .dataframe thead th {\n",
       "        text-align: right;\n",
       "    }\n",
       "</style>\n",
       "<table border=\"1\" class=\"dataframe\">\n",
       "  <thead>\n",
       "    <tr style=\"text-align: right;\">\n",
       "      <th></th>\n",
       "      <th>Number of missing value</th>\n",
       "      <th>Data type</th>\n",
       "    </tr>\n",
       "  </thead>\n",
       "  <tbody>\n",
       "    <tr>\n",
       "      <th>business_id</th>\n",
       "      <td>0</td>\n",
       "      <td>object</td>\n",
       "    </tr>\n",
       "    <tr>\n",
       "      <th>name</th>\n",
       "      <td>0</td>\n",
       "      <td>object</td>\n",
       "    </tr>\n",
       "    <tr>\n",
       "      <th>address</th>\n",
       "      <td>0</td>\n",
       "      <td>object</td>\n",
       "    </tr>\n",
       "    <tr>\n",
       "      <th>city</th>\n",
       "      <td>0</td>\n",
       "      <td>object</td>\n",
       "    </tr>\n",
       "    <tr>\n",
       "      <th>state</th>\n",
       "      <td>0</td>\n",
       "      <td>object</td>\n",
       "    </tr>\n",
       "    <tr>\n",
       "      <th>postal_code</th>\n",
       "      <td>0</td>\n",
       "      <td>object</td>\n",
       "    </tr>\n",
       "    <tr>\n",
       "      <th>latitude</th>\n",
       "      <td>0</td>\n",
       "      <td>float64</td>\n",
       "    </tr>\n",
       "    <tr>\n",
       "      <th>longitude</th>\n",
       "      <td>0</td>\n",
       "      <td>float64</td>\n",
       "    </tr>\n",
       "    <tr>\n",
       "      <th>stars</th>\n",
       "      <td>0</td>\n",
       "      <td>float64</td>\n",
       "    </tr>\n",
       "    <tr>\n",
       "      <th>review_count</th>\n",
       "      <td>0</td>\n",
       "      <td>int64</td>\n",
       "    </tr>\n",
       "    <tr>\n",
       "      <th>is_open</th>\n",
       "      <td>0</td>\n",
       "      <td>int64</td>\n",
       "    </tr>\n",
       "    <tr>\n",
       "      <th>attributes</th>\n",
       "      <td>440</td>\n",
       "      <td>object</td>\n",
       "    </tr>\n",
       "    <tr>\n",
       "      <th>categories</th>\n",
       "      <td>0</td>\n",
       "      <td>object</td>\n",
       "    </tr>\n",
       "    <tr>\n",
       "      <th>hours</th>\n",
       "      <td>3370</td>\n",
       "      <td>object</td>\n",
       "    </tr>\n",
       "    <tr>\n",
       "      <th>is_restaurant</th>\n",
       "      <td>0</td>\n",
       "      <td>int64</td>\n",
       "    </tr>\n",
       "  </tbody>\n",
       "</table>\n",
       "</div>"
      ],
      "text/plain": [
       "               Number of missing value Data type\n",
       "business_id                          0    object\n",
       "name                                 0    object\n",
       "address                              0    object\n",
       "city                                 0    object\n",
       "state                                0    object\n",
       "postal_code                          0    object\n",
       "latitude                             0   float64\n",
       "longitude                            0   float64\n",
       "stars                                0   float64\n",
       "review_count                         0     int64\n",
       "is_open                              0     int64\n",
       "attributes                         440    object\n",
       "categories                           0    object\n",
       "hours                             3370    object\n",
       "is_restaurant                        0     int64"
      ]
     },
     "execution_count": 13,
     "metadata": {},
     "output_type": "execute_result"
    }
   ],
   "source": [
    "basic_details(open_restaurants)"
   ]
  },
  {
   "cell_type": "code",
   "execution_count": 14,
   "id": "dfa7844e",
   "metadata": {},
   "outputs": [
    {
     "data": {
      "text/html": [
       "<div>\n",
       "<style scoped>\n",
       "    .dataframe tbody tr th:only-of-type {\n",
       "        vertical-align: middle;\n",
       "    }\n",
       "\n",
       "    .dataframe tbody tr th {\n",
       "        vertical-align: top;\n",
       "    }\n",
       "\n",
       "    .dataframe thead th {\n",
       "        text-align: right;\n",
       "    }\n",
       "</style>\n",
       "<table border=\"1\" class=\"dataframe\">\n",
       "  <thead>\n",
       "    <tr style=\"text-align: right;\">\n",
       "      <th></th>\n",
       "      <th>business_id</th>\n",
       "      <th>name</th>\n",
       "      <th>address</th>\n",
       "      <th>city</th>\n",
       "      <th>state</th>\n",
       "      <th>postal_code</th>\n",
       "      <th>latitude</th>\n",
       "      <th>longitude</th>\n",
       "      <th>stars</th>\n",
       "      <th>review_count</th>\n",
       "      <th>is_open</th>\n",
       "      <th>attributes</th>\n",
       "      <th>categories</th>\n",
       "      <th>hours</th>\n",
       "      <th>is_restaurant</th>\n",
       "    </tr>\n",
       "  </thead>\n",
       "  <tbody>\n",
       "    <tr>\n",
       "      <th>3</th>\n",
       "      <td>MTSW4McQd7CbVtyjqoe9mw</td>\n",
       "      <td>St Honore Pastries</td>\n",
       "      <td>935 Race St</td>\n",
       "      <td>Philadelphia</td>\n",
       "      <td>PA</td>\n",
       "      <td>19107</td>\n",
       "      <td>39.955505</td>\n",
       "      <td>-75.155564</td>\n",
       "      <td>4.0</td>\n",
       "      <td>80</td>\n",
       "      <td>1</td>\n",
       "      <td>{'RestaurantsDelivery': 'False', 'OutdoorSeati...</td>\n",
       "      <td>Restaurants, Food, Bubble Tea, Coffee &amp; Tea, B...</td>\n",
       "      <td>{'Monday': '7:0-20:0', 'Tuesday': '7:0-20:0', ...</td>\n",
       "      <td>1</td>\n",
       "    </tr>\n",
       "    <tr>\n",
       "      <th>5</th>\n",
       "      <td>CF33F8-E6oudUQ46HnavjQ</td>\n",
       "      <td>Sonic Drive-In</td>\n",
       "      <td>615 S Main St</td>\n",
       "      <td>Ashland City</td>\n",
       "      <td>TN</td>\n",
       "      <td>37015</td>\n",
       "      <td>36.269593</td>\n",
       "      <td>-87.058943</td>\n",
       "      <td>2.0</td>\n",
       "      <td>6</td>\n",
       "      <td>1</td>\n",
       "      <td>{'BusinessParking': 'None', 'BusinessAcceptsCr...</td>\n",
       "      <td>Burgers, Fast Food, Sandwiches, Food, Ice Crea...</td>\n",
       "      <td>{'Monday': '0:0-0:0', 'Tuesday': '6:0-22:0', '...</td>\n",
       "      <td>1</td>\n",
       "    </tr>\n",
       "    <tr>\n",
       "      <th>9</th>\n",
       "      <td>bBDDEgkFA1Otx9Lfe7BZUQ</td>\n",
       "      <td>Sonic Drive-In</td>\n",
       "      <td>2312 Dickerson Pike</td>\n",
       "      <td>Nashville</td>\n",
       "      <td>TN</td>\n",
       "      <td>37207</td>\n",
       "      <td>36.208102</td>\n",
       "      <td>-86.768170</td>\n",
       "      <td>1.5</td>\n",
       "      <td>10</td>\n",
       "      <td>1</td>\n",
       "      <td>{'RestaurantsAttire': ''casual'', 'Restaurants...</td>\n",
       "      <td>Ice Cream &amp; Frozen Yogurt, Fast Food, Burgers,...</td>\n",
       "      <td>{'Monday': '0:0-0:0', 'Tuesday': '6:0-21:0', '...</td>\n",
       "      <td>1</td>\n",
       "    </tr>\n",
       "    <tr>\n",
       "      <th>11</th>\n",
       "      <td>eEOYSgkmpB90uNA7lDOMRA</td>\n",
       "      <td>Vietnamese Food Truck</td>\n",
       "      <td></td>\n",
       "      <td>Tampa Bay</td>\n",
       "      <td>FL</td>\n",
       "      <td>33602</td>\n",
       "      <td>27.955269</td>\n",
       "      <td>-82.456320</td>\n",
       "      <td>4.0</td>\n",
       "      <td>10</td>\n",
       "      <td>1</td>\n",
       "      <td>{'Alcohol': ''none'', 'OutdoorSeating': 'None'...</td>\n",
       "      <td>Vietnamese, Food, Restaurants, Food Trucks</td>\n",
       "      <td>{'Monday': '11:0-14:0', 'Tuesday': '11:0-14:0'...</td>\n",
       "      <td>1</td>\n",
       "    </tr>\n",
       "    <tr>\n",
       "      <th>12</th>\n",
       "      <td>il_Ro8jwPlHresjw9EGmBg</td>\n",
       "      <td>Denny's</td>\n",
       "      <td>8901 US 31 S</td>\n",
       "      <td>Indianapolis</td>\n",
       "      <td>IN</td>\n",
       "      <td>46227</td>\n",
       "      <td>39.637133</td>\n",
       "      <td>-86.127217</td>\n",
       "      <td>2.5</td>\n",
       "      <td>28</td>\n",
       "      <td>1</td>\n",
       "      <td>{'RestaurantsReservations': 'False', 'Restaura...</td>\n",
       "      <td>American (Traditional), Restaurants, Diners, B...</td>\n",
       "      <td>{'Monday': '6:0-22:0', 'Tuesday': '6:0-22:0', ...</td>\n",
       "      <td>1</td>\n",
       "    </tr>\n",
       "  </tbody>\n",
       "</table>\n",
       "</div>"
      ],
      "text/plain": [
       "               business_id                   name              address  \\\n",
       "3   MTSW4McQd7CbVtyjqoe9mw     St Honore Pastries          935 Race St   \n",
       "5   CF33F8-E6oudUQ46HnavjQ         Sonic Drive-In        615 S Main St   \n",
       "9   bBDDEgkFA1Otx9Lfe7BZUQ         Sonic Drive-In  2312 Dickerson Pike   \n",
       "11  eEOYSgkmpB90uNA7lDOMRA  Vietnamese Food Truck                        \n",
       "12  il_Ro8jwPlHresjw9EGmBg                Denny's         8901 US 31 S   \n",
       "\n",
       "            city state postal_code   latitude  longitude  stars  review_count  \\\n",
       "3   Philadelphia    PA       19107  39.955505 -75.155564    4.0            80   \n",
       "5   Ashland City    TN       37015  36.269593 -87.058943    2.0             6   \n",
       "9      Nashville    TN       37207  36.208102 -86.768170    1.5            10   \n",
       "11     Tampa Bay    FL       33602  27.955269 -82.456320    4.0            10   \n",
       "12  Indianapolis    IN       46227  39.637133 -86.127217    2.5            28   \n",
       "\n",
       "    is_open                                         attributes  \\\n",
       "3         1  {'RestaurantsDelivery': 'False', 'OutdoorSeati...   \n",
       "5         1  {'BusinessParking': 'None', 'BusinessAcceptsCr...   \n",
       "9         1  {'RestaurantsAttire': ''casual'', 'Restaurants...   \n",
       "11        1  {'Alcohol': ''none'', 'OutdoorSeating': 'None'...   \n",
       "12        1  {'RestaurantsReservations': 'False', 'Restaura...   \n",
       "\n",
       "                                           categories  \\\n",
       "3   Restaurants, Food, Bubble Tea, Coffee & Tea, B...   \n",
       "5   Burgers, Fast Food, Sandwiches, Food, Ice Crea...   \n",
       "9   Ice Cream & Frozen Yogurt, Fast Food, Burgers,...   \n",
       "11         Vietnamese, Food, Restaurants, Food Trucks   \n",
       "12  American (Traditional), Restaurants, Diners, B...   \n",
       "\n",
       "                                                hours  is_restaurant  \n",
       "3   {'Monday': '7:0-20:0', 'Tuesday': '7:0-20:0', ...              1  \n",
       "5   {'Monday': '0:0-0:0', 'Tuesday': '6:0-22:0', '...              1  \n",
       "9   {'Monday': '0:0-0:0', 'Tuesday': '6:0-21:0', '...              1  \n",
       "11  {'Monday': '11:0-14:0', 'Tuesday': '11:0-14:0'...              1  \n",
       "12  {'Monday': '6:0-22:0', 'Tuesday': '6:0-22:0', ...              1  "
      ]
     },
     "execution_count": 14,
     "metadata": {},
     "output_type": "execute_result"
    }
   ],
   "source": [
    "open_restaurants.head()"
   ]
  },
  {
   "cell_type": "code",
   "execution_count": 15,
   "id": "5d1d0290",
   "metadata": {},
   "outputs": [
    {
     "data": {
      "text/plain": [
       "3         {'RestaurantsDelivery': 'False', 'OutdoorSeati...\n",
       "5         {'BusinessParking': 'None', 'BusinessAcceptsCr...\n",
       "9         {'RestaurantsAttire': ''casual'', 'Restaurants...\n",
       "11        {'Alcohol': ''none'', 'OutdoorSeating': 'None'...\n",
       "12        {'RestaurantsReservations': 'False', 'Restaura...\n",
       "                                ...                        \n",
       "150323    {'BikeParking': 'True', 'Alcohol': 'u'full_bar...\n",
       "150325    {'BikeParking': 'True', 'BusinessAcceptsCredit...\n",
       "150327    {'WiFi': ''free'', 'RestaurantsGoodForGroups':...\n",
       "150336    {'WheelchairAccessible': 'False', 'Restaurants...\n",
       "150339    {'RestaurantsDelivery': 'False', 'BusinessAcce...\n",
       "Name: attributes, Length: 34987, dtype: object"
      ]
     },
     "execution_count": 15,
     "metadata": {},
     "output_type": "execute_result"
    }
   ],
   "source": [
    "open_restaurants['attributes']"
   ]
  },
  {
   "cell_type": "code",
   "execution_count": 16,
   "id": "4257d101",
   "metadata": {
    "tags": []
   },
   "outputs": [
    {
     "data": {
      "text/plain": [
       "<AxesSubplot:xlabel='categories'>"
      ]
     },
     "execution_count": 16,
     "metadata": {},
     "output_type": "execute_result"
    },
    {
     "data": {
      "image/png": "[encoded data removed]",
      "text/plain": [
       "<Figure size 640x480 with 1 Axes>"
      ]
     },
     "metadata": {},
     "output_type": "display_data"
    }
   ],
   "source": [
    "#top 20 common categories\n",
    "cnt = open_restaurants['categories'].value_counts()[:30].to_frame()\n",
    "sns.barplot(x = cnt['categories'], y = cnt.index)"
   ]
  },
  {
   "cell_type": "code",
   "execution_count": 17,
   "id": "350bfb8e-6953-4441-8f2f-dddb33d03747",
   "metadata": {
    "tags": []
   },
   "outputs": [],
   "source": [
    "unique_set = set([word.strip() for word in ','.join(open_restaurants['categories'].to_list()).split(',')])\n",
    "unique_cats = list(unique_set)"
   ]
  },
  {
   "cell_type": "code",
   "execution_count": 18,
   "id": "2b37cbf7-d582-4d67-a0be-31bd11904ea3",
   "metadata": {},
   "outputs": [],
   "source": [
    "###### valid_cats = []"
   ]
  },
  {
   "cell_type": "code",
   "execution_count": 19,
   "id": "f4f7b42b-af8d-47b1-8de0-66219b392d0f",
   "metadata": {
    "jupyter": {
     "outputs_hidden": true
    },
    "tags": []
   },
   "outputs": [
    {
     "ename": "KeyboardInterrupt",
     "evalue": "Interrupted by user",
     "output_type": "error",
     "traceback": [
      "\u001b[0;31m---------------------------------------------------------------------------\u001b[0m",
      "\u001b[0;31mKeyboardInterrupt\u001b[0m                         Traceback (most recent call last)",
      "\u001b[0;32m/var/folders/08/_8h0msbx2d53rl64ky84n21w0000gn/T/ipykernel_52641/3495432871.py\u001b[0m in \u001b[0;36m<module>\u001b[0;34m\u001b[0m\n\u001b[1;32m      2\u001b[0m \u001b[0mstart\u001b[0m \u001b[0;34m=\u001b[0m \u001b[0munique_cats\u001b[0m\u001b[0;34m[\u001b[0m\u001b[0;36m0\u001b[0m\u001b[0;34m]\u001b[0m\u001b[0;34m\u001b[0m\u001b[0;34m\u001b[0m\u001b[0m\n\u001b[1;32m      3\u001b[0m \u001b[0;32mfor\u001b[0m \u001b[0mcat\u001b[0m \u001b[0;32min\u001b[0m \u001b[0munique_cats\u001b[0m\u001b[0;34m[\u001b[0m\u001b[0munique_cats\u001b[0m\u001b[0;34m.\u001b[0m\u001b[0mindex\u001b[0m\u001b[0;34m(\u001b[0m\u001b[0mstart\u001b[0m\u001b[0;34m)\u001b[0m\u001b[0;34m:\u001b[0m\u001b[0;34m]\u001b[0m\u001b[0;34m:\u001b[0m\u001b[0;34m\u001b[0m\u001b[0;34m\u001b[0m\u001b[0m\n\u001b[0;32m----> 4\u001b[0;31m     \u001b[0mvalid\u001b[0m \u001b[0;34m=\u001b[0m \u001b[0minput\u001b[0m\u001b[0;34m(\u001b[0m\u001b[0mcat\u001b[0m\u001b[0;34m+\u001b[0m \u001b[0;34m\" is rest cat: \"\u001b[0m\u001b[0;34m)\u001b[0m\u001b[0;34m\u001b[0m\u001b[0;34m\u001b[0m\u001b[0m\n\u001b[0m\u001b[1;32m      5\u001b[0m     \u001b[0;32mif\u001b[0m \u001b[0mvalid\u001b[0m \u001b[0;32min\u001b[0m \u001b[0;34m[\u001b[0m\u001b[0;34m\"y\"\u001b[0m\u001b[0;34m,\u001b[0m \u001b[0;34m\"yes\"\u001b[0m\u001b[0;34m,\u001b[0m \u001b[0;34m\"Y\"\u001b[0m\u001b[0;34m,\u001b[0m \u001b[0;34m\"Yes\"\u001b[0m\u001b[0;34m,\u001b[0m \u001b[0;34m\"t\"\u001b[0m \u001b[0;34m,\u001b[0m\u001b[0;34m\"true\"\u001b[0m\u001b[0;34m,\u001b[0m \u001b[0;34m'T'\u001b[0m\u001b[0;34m,\u001b[0m \u001b[0;34m'True'\u001b[0m\u001b[0;34m]\u001b[0m\u001b[0;34m:\u001b[0m\u001b[0;34m\u001b[0m\u001b[0;34m\u001b[0m\u001b[0m\n\u001b[1;32m      6\u001b[0m         \u001b[0mvalid_cats\u001b[0m\u001b[0;34m.\u001b[0m\u001b[0mappend\u001b[0m\u001b[0;34m(\u001b[0m\u001b[0mcat\u001b[0m\u001b[0;34m)\u001b[0m\u001b[0;34m\u001b[0m\u001b[0;34m\u001b[0m\u001b[0m\n",
      "\u001b[0;32m~/opt/anaconda3/lib/python3.9/site-packages/ipykernel/kernelbase.py\u001b[0m in \u001b[0;36mraw_input\u001b[0;34m(self, prompt)\u001b[0m\n\u001b[1;32m   1175\u001b[0m                 \u001b[0;34m\"raw_input was called, but this frontend does not support input requests.\"\u001b[0m\u001b[0;34m\u001b[0m\u001b[0;34m\u001b[0m\u001b[0m\n\u001b[1;32m   1176\u001b[0m             )\n\u001b[0;32m-> 1177\u001b[0;31m         return self._input_request(\n\u001b[0m\u001b[1;32m   1178\u001b[0m             \u001b[0mstr\u001b[0m\u001b[0;34m(\u001b[0m\u001b[0mprompt\u001b[0m\u001b[0;34m)\u001b[0m\u001b[0;34m,\u001b[0m\u001b[0;34m\u001b[0m\u001b[0;34m\u001b[0m\u001b[0m\n\u001b[1;32m   1179\u001b[0m             \u001b[0mself\u001b[0m\u001b[0;34m.\u001b[0m\u001b[0m_parent_ident\u001b[0m\u001b[0;34m[\u001b[0m\u001b[0;34m\"shell\"\u001b[0m\u001b[0;34m]\u001b[0m\u001b[0;34m,\u001b[0m\u001b[0;34m\u001b[0m\u001b[0;34m\u001b[0m\u001b[0m\n",
      "\u001b[0;32m~/opt/anaconda3/lib/python3.9/site-packages/ipykernel/kernelbase.py\u001b[0m in \u001b[0;36m_input_request\u001b[0;34m(self, prompt, ident, parent, password)\u001b[0m\n\u001b[1;32m   1217\u001b[0m             \u001b[0;32mexcept\u001b[0m \u001b[0mKeyboardInterrupt\u001b[0m\u001b[0;34m:\u001b[0m\u001b[0;34m\u001b[0m\u001b[0;34m\u001b[0m\u001b[0m\n\u001b[1;32m   1218\u001b[0m                 \u001b[0;31m# re-raise KeyboardInterrupt, to truncate traceback\u001b[0m\u001b[0;34m\u001b[0m\u001b[0;34m\u001b[0m\u001b[0m\n\u001b[0;32m-> 1219\u001b[0;31m                 \u001b[0;32mraise\u001b[0m \u001b[0mKeyboardInterrupt\u001b[0m\u001b[0;34m(\u001b[0m\u001b[0;34m\"Interrupted by user\"\u001b[0m\u001b[0;34m)\u001b[0m \u001b[0;32mfrom\u001b[0m \u001b[0;32mNone\u001b[0m\u001b[0;34m\u001b[0m\u001b[0;34m\u001b[0m\u001b[0m\n\u001b[0m\u001b[1;32m   1220\u001b[0m             \u001b[0;32mexcept\u001b[0m \u001b[0mException\u001b[0m\u001b[0;34m:\u001b[0m\u001b[0;34m\u001b[0m\u001b[0;34m\u001b[0m\u001b[0m\n\u001b[1;32m   1221\u001b[0m                 \u001b[0mself\u001b[0m\u001b[0;34m.\u001b[0m\u001b[0mlog\u001b[0m\u001b[0;34m.\u001b[0m\u001b[0mwarning\u001b[0m\u001b[0;34m(\u001b[0m\u001b[0;34m\"Invalid Message:\"\u001b[0m\u001b[0;34m,\u001b[0m \u001b[0mexc_info\u001b[0m\u001b[0;34m=\u001b[0m\u001b[0;32mTrue\u001b[0m\u001b[0;34m)\u001b[0m\u001b[0;34m\u001b[0m\u001b[0;34m\u001b[0m\u001b[0m\n",
      "\u001b[0;31mKeyboardInterrupt\u001b[0m: Interrupted by user"
     ]
    }
   ],
   "source": [
    "# start = 'Sports Clubs'\\\n",
    "start = unique_cats[0]\n",
    "for cat in unique_cats[unique_cats.index(start):]: \n",
    "    valid = input(cat+ \" is rest cat: \")\n",
    "    if valid in [\"y\", \"yes\", \"Y\", \"Yes\", \"t\" ,\"true\", 'T', 'True']:\n",
    "        valid_cats.append(cat)\n",
    "    elif valid == \"STOP\": \n",
    "        print(\"\\nSTOPPED at: \"+ cat)\n",
    "        break"
   ]
  },
  {
   "cell_type": "code",
   "execution_count": null,
   "id": "dbedc067-3234-484e-a6ea-b4fa7a259877",
   "metadata": {
    "tags": []
   },
   "outputs": [],
   "source": [
    "valid_set = set(valid_cats)\n",
    "invalid_set = unique_set.difference(valid_set)"
   ]
  },
  {
   "cell_type": "code",
   "execution_count": null,
   "id": "d9f8f123-bb16-436d-9ae3-3291c9bc9f69",
   "metadata": {
    "jupyter": {
     "outputs_hidden": true
    },
    "tags": []
   },
   "outputs": [],
   "source": [
    "for item in sorted(valid_cats):\n",
    "    print(item)"
   ]
  },
  {
   "cell_type": "code",
   "execution_count": null,
   "id": "c7c5c5cc-28a1-4b3d-86c3-a9846d75f55e",
   "metadata": {
    "jupyter": {
     "outputs_hidden": true
    },
    "tags": []
   },
   "outputs": [],
   "source": [
    "for item in sorted(invalid_set):\n",
    "    print(item)"
   ]
  },
  {
   "cell_type": "markdown",
   "id": "4d01bb00-395f-47bf-abc7-d4a9c678e84a",
   "metadata": {},
   "source": [
    "## RUN THESE IF YOU HAVEN'T RUN THE INITIAL PERUSAL CELLS"
   ]
  },
  {
   "cell_type": "code",
   "execution_count": 20,
   "id": "7d897c9a-faeb-43ee-b14e-f673179357f2",
   "metadata": {
    "tags": []
   },
   "outputs": [],
   "source": [
    "def restaurant(row):\n",
    "    if row['categories']:\n",
    "        if 'Restaurants' in row['categories']:\n",
    "            return 1\n",
    "    return 0\n",
    "\n",
    "businesses['is_restaurant'] = businesses.apply(restaurant, axis = 1)\n",
    "open_restaurants = businesses[(businesses['is_restaurant'] == 1) & (businesses['is_open'] == 1)]"
   ]
  },
  {
   "cell_type": "code",
   "execution_count": 21,
   "id": "3326ff15-6066-4076-9958-93629d626dd2",
   "metadata": {
    "tags": []
   },
   "outputs": [],
   "source": [
    "with open(\"valid_cats.txt\", \"r\") as f:\n",
    "    valid_cats = f.read()\n",
    "    valid_cats = valid_cats.split(\"\\n\")"
   ]
  },
  {
   "cell_type": "markdown",
   "id": "41ac582a-1688-494c-b7c6-5b9a2c9bf395",
   "metadata": {},
   "source": [
    "## Explode Categories"
   ]
  },
  {
   "cell_type": "code",
   "execution_count": 22,
   "id": "8272f4db-18a9-43f5-94d7-4f9d25bfef84",
   "metadata": {
    "tags": []
   },
   "outputs": [
    {
     "name": "stdout",
     "output_type": "stream",
     "text": [
      "Num rows before: 34987\n",
      "Num rows cleaned: 34853\n"
     ]
    }
   ],
   "source": [
    "new_cols = [open_restaurants]\n",
    "for cat in valid_cats:\n",
    "    new_cols.append((1*open_restaurants['categories'].str.contains(cat, regex = False)).rename(cat))\n",
    "open_restaurants_exploded = pd.concat(new_cols, axis = 1)\n",
    "#open_restaurants_exploded.drop(['categories'], axis = 1, inplace = True)\n",
    "\n",
    "# Remove rows that dont have any of the valid tags? \n",
    "print(f\"Num rows before: {open_restaurants_exploded.shape[0]}\")\n",
    "open_restaurants_clean = open_restaurants_exploded[open_restaurants_exploded[valid_cats].sum(axis=1) != 0]\n",
    "print(f\"Num rows cleaned: {open_restaurants_clean.shape[0]}\")"
   ]
  },
  {
   "cell_type": "markdown",
   "id": "e53efbaa-fad1-4518-b8ec-25c934b84429",
   "metadata": {
    "jp-MarkdownHeadingCollapsed": true,
    "tags": []
   },
   "source": [
    "## Look at exploded data"
   ]
  },
  {
   "cell_type": "code",
   "execution_count": 23,
   "id": "c2216d7e-fcc9-41b4-a820-4aa072dc35c0",
   "metadata": {
    "tags": []
   },
   "outputs": [
    {
     "name": "stdout",
     "output_type": "stream",
     "text": [
      "Row:34853, columns:290\n"
     ]
    },
    {
     "data": {
      "text/html": [
       "<div>\n",
       "<style scoped>\n",
       "    .dataframe tbody tr th:only-of-type {\n",
       "        vertical-align: middle;\n",
       "    }\n",
       "\n",
       "    .dataframe tbody tr th {\n",
       "        vertical-align: top;\n",
       "    }\n",
       "\n",
       "    .dataframe thead th {\n",
       "        text-align: right;\n",
       "    }\n",
       "</style>\n",
       "<table border=\"1\" class=\"dataframe\">\n",
       "  <thead>\n",
       "    <tr style=\"text-align: right;\">\n",
       "      <th></th>\n",
       "      <th>Number of missing value</th>\n",
       "      <th>Data type</th>\n",
       "    </tr>\n",
       "  </thead>\n",
       "  <tbody>\n",
       "    <tr>\n",
       "      <th>business_id</th>\n",
       "      <td>0</td>\n",
       "      <td>object</td>\n",
       "    </tr>\n",
       "    <tr>\n",
       "      <th>name</th>\n",
       "      <td>0</td>\n",
       "      <td>object</td>\n",
       "    </tr>\n",
       "    <tr>\n",
       "      <th>address</th>\n",
       "      <td>0</td>\n",
       "      <td>object</td>\n",
       "    </tr>\n",
       "    <tr>\n",
       "      <th>city</th>\n",
       "      <td>0</td>\n",
       "      <td>object</td>\n",
       "    </tr>\n",
       "    <tr>\n",
       "      <th>state</th>\n",
       "      <td>0</td>\n",
       "      <td>object</td>\n",
       "    </tr>\n",
       "    <tr>\n",
       "      <th>...</th>\n",
       "      <td>...</td>\n",
       "      <td>...</td>\n",
       "    </tr>\n",
       "    <tr>\n",
       "      <th>Wine Tasting Classes</th>\n",
       "      <td>0</td>\n",
       "      <td>int64</td>\n",
       "    </tr>\n",
       "    <tr>\n",
       "      <th>Wine Tasting Room</th>\n",
       "      <td>0</td>\n",
       "      <td>int64</td>\n",
       "    </tr>\n",
       "    <tr>\n",
       "      <th>Wine Tours</th>\n",
       "      <td>0</td>\n",
       "      <td>int64</td>\n",
       "    </tr>\n",
       "    <tr>\n",
       "      <th>Wineries</th>\n",
       "      <td>0</td>\n",
       "      <td>int64</td>\n",
       "    </tr>\n",
       "    <tr>\n",
       "      <th>Wraps</th>\n",
       "      <td>0</td>\n",
       "      <td>int64</td>\n",
       "    </tr>\n",
       "  </tbody>\n",
       "</table>\n",
       "<p>290 rows × 2 columns</p>\n",
       "</div>"
      ],
      "text/plain": [
       "                      Number of missing value Data type\n",
       "business_id                                 0    object\n",
       "name                                        0    object\n",
       "address                                     0    object\n",
       "city                                        0    object\n",
       "state                                       0    object\n",
       "...                                       ...       ...\n",
       "Wine Tasting Classes                        0     int64\n",
       "Wine Tasting Room                           0     int64\n",
       "Wine Tours                                  0     int64\n",
       "Wineries                                    0     int64\n",
       "Wraps                                       0     int64\n",
       "\n",
       "[290 rows x 2 columns]"
      ]
     },
     "execution_count": 23,
     "metadata": {},
     "output_type": "execute_result"
    }
   ],
   "source": [
    "basic_details(open_restaurants_clean)"
   ]
  },
  {
   "cell_type": "code",
   "execution_count": 24,
   "id": "74083671-e964-4aea-96a4-3c25b7baea44",
   "metadata": {
    "tags": []
   },
   "outputs": [
    {
     "data": {
      "text/plain": [
       "<AxesSubplot:>"
      ]
     },
     "execution_count": 24,
     "metadata": {},
     "output_type": "execute_result"
    },
    {
     "data": {
      "image/png": "[encoded data removed]",
      "text/plain": [
       "<Figure size 640x480 with 1 Axes>"
      ]
     },
     "metadata": {},
     "output_type": "display_data"
    }
   ],
   "source": [
    "cnt = open_restaurants_clean[valid_cats].sum(numeric_only=None).sort_values(ascending = False)[:30]\n",
    "sns.barplot(x = cnt.values, y = cnt.index)"
   ]
  },
  {
   "cell_type": "markdown",
   "id": "c860e1ac-5bb2-4eca-9aeb-d09c4e153b8a",
   "metadata": {},
   "source": [
    "## Condense our categories"
   ]
  },
  {
   "cell_type": "code",
   "execution_count": 25,
   "id": "990c49d8-e953-4709-9ad2-a51d8df48765",
   "metadata": {
    "tags": []
   },
   "outputs": [
    {
     "name": "stdout",
     "output_type": "stream",
     "text": [
      "Shape  before: (34853, 290)\n",
      "Shape condensed: (32380, 45)\n"
     ]
    }
   ],
   "source": [
    "# Remove rows that dont have any of the valid categories and only keep top 30 categories\n",
    "print(f\"Shape  before: {open_restaurants_clean.shape}\")\n",
    "cnt = open_restaurants_clean[valid_cats].sum(numeric_only=None).sort_values(ascending = False)[:30]\n",
    "drop_cats = set(valid_cats).difference(cnt.index)\n",
    "open_restaurants_condensed = open_restaurants_clean[open_restaurants_clean[cnt.index].sum(axis=1) != 0].drop(drop_cats, axis = 1)\n",
    "print(f\"Shape condensed: {open_restaurants_condensed.shape}\")"
   ]
  },
  {
   "cell_type": "markdown",
   "id": "5def8162-4ec5-4531-b470-91c88de0e0e0",
   "metadata": {},
   "source": [
    "## look at condensed"
   ]
  },
  {
   "cell_type": "code",
   "execution_count": 26,
   "id": "a9f781f1-e305-421b-add4-5ce54ba086cd",
   "metadata": {
    "jupyter": {
     "outputs_hidden": true
    },
    "tags": []
   },
   "outputs": [
    {
     "name": "stdout",
     "output_type": "stream",
     "text": [
      "Row:32380, columns:45\n",
      "                        Number of missing value Data type\n",
      "business_id                                   0    object\n",
      "name                                          0    object\n",
      "address                                       0    object\n",
      "city                                          0    object\n",
      "state                                         0    object\n",
      "postal_code                                   0    object\n",
      "latitude                                      0   float64\n",
      "longitude                                     0   float64\n",
      "stars                                         0   float64\n",
      "review_count                                  0     int64\n",
      "is_open                                       0     int64\n",
      "attributes                                  359    object\n",
      "categories                                    0    object\n",
      "hours                                      2971    object\n",
      "is_restaurant                                 0     int64\n",
      "American (New)                                0     int64\n",
      "American (Traditional)                        0     int64\n",
      "Bakeries                                      0     int64\n",
      "Barbeque                                      0     int64\n",
      "Bars                                          0     int64\n",
      "Beer                                          0     int64\n",
      "Breakfast & Brunch                            0     int64\n",
      "Burgers                                       0     int64\n",
      "Cafes                                         0     int64\n",
      "Caterers                                      0     int64\n",
      "Chicken Wings                                 0     int64\n",
      "Chinese                                       0     int64\n",
      "Cocktail Bars                                 0     int64\n",
      "Coffee & Tea                                  0     int64\n",
      "Delis                                         0     int64\n",
      "Desserts                                      0     int64\n",
      "Diners                                        0     int64\n",
      "Fast Food                                     0     int64\n",
      "Italian                                       0     int64\n",
      "Japanese                                      0     int64\n",
      "Mexican                                       0     int64\n",
      "Nightlife                                     0     int64\n",
      "Pizza                                         0     int64\n",
      "Salad                                         0     int64\n",
      "Sandwiches                                    0     int64\n",
      "Seafood                                       0     int64\n",
      "Specialty Food                                0     int64\n",
      "Sports Bars                                   0     int64\n",
      "Steakhouses                                   0     int64\n",
      "Sushi Bars                                    0     int64\n"
     ]
    }
   ],
   "source": [
    "with pd.option_context('display.max_rows', None, 'display.max_columns', None):\n",
    "    print(basic_details(open_restaurants_condensed))"
   ]
  },
  {
   "cell_type": "markdown",
   "id": "2433cf63-e2d6-4661-8de3-3bb6141677b4",
   "metadata": {},
   "source": [
    "## Explode Attributes"
   ]
  },
  {
   "cell_type": "code",
   "execution_count": 27,
   "id": "7243df4f-a107-410b-a4aa-60479091cb93",
   "metadata": {
    "tags": []
   },
   "outputs": [],
   "source": [
    "open_restaurants_condensed = open_restaurants_condensed.join(pd.json_normalize(open_restaurants_condensed['attributes']))\n",
    "open_restaurants_condensed.drop(['DietaryRestrictions','HairSpecializesIn'], inplace = True, axis = 1)"
   ]
  },
  {
   "cell_type": "code",
   "execution_count": 28,
   "id": "34a46de9-7bac-414f-8652-bb969eb9cccb",
   "metadata": {
    "tags": []
   },
   "outputs": [],
   "source": [
    "for col in ['RestaurantsDelivery', 'OutdoorSeating', 'BusinessAcceptsCreditCards', 'BikeParking', 'RestaurantsTakeOut', 'ByAppointmentOnly',\n",
    "            'Caters', 'RestaurantsReservations','GoodForKids' ,'CoatCheck', 'DogsAllowed','RestaurantsTableService','RestaurantsGoodForGroups',\n",
    "            'WheelchairAccessible','HasTV','HappyHour','DriveThru', 'BusinessAcceptsBitcoin', 'GoodForDancing', 'BYOB','Corkage',\n",
    "            'RestaurantsCounterService','Open24Hours','AcceptsInsurance']:\n",
    "    open_restaurants_condensed[col].replace({'True': 1, 'False': -1, 'None' : 0, np.nan:0}, inplace = True)"
   ]
  },
  {
   "cell_type": "code",
   "execution_count": 29,
   "id": "f3990bae-189b-472e-83ca-8f6f276b0458",
   "metadata": {
    "tags": []
   },
   "outputs": [],
   "source": [
    "## ASSUMPTIONS MADE HERE... sometimes none/nan should not be interpreted as 0, but here we assume so... \n",
    "\n",
    "attribute_conversions = {\n",
    "    'RestaurantsPriceRange2': {'2':2, '1':1, '3':3, '4':4, 'None':np.nan},\n",
    "    'WiFi': {np.nan:0, \"'free'\":1, \"u'free'\":1, \"u'no'\":0, \"u'paid'\":-1, \"'no'\":0, \"'paid'\":-1, 'None':0},\n",
    "    'Alcohol': {\"'none'\":0, \"'full_bar'\":2, np.nan:0, \"u'full_bar'\":2, \"u'none'\":0, \"'beer_and_wine'\":1, \"u'beer_and_wine'\":1, 'None':0},\n",
    "    'RestaurantsAttire': {np.nan:0, \"'casual'\":1, \"u'casual'\":1, \"u'dressy'\":2, \"'dressy'\":2, \"u'formal'\":3, 'None':0, \"'formal'\":3},\n",
    "    'NoiseLevel': {np.nan:0, \"u'average'\":0, \"u'quiet'\":-1, \"u'very_loud'\":2, \"'average'\":0, \"u'loud'\":1, \"'quiet'\":-1, \"'loud'\":1, 'None':0, \"'very_loud'\":2,},\n",
    "    'Smoking': {np.nan:0, \"u'outdoor'\":1, \"u'no'\":2, \"u'yes'\":-1, \"'no'\":2},\n",
    "    'BYOBCorkage':{np.nan:0, \"'no'\":-1, \"'yes_free'\":2, 'None':0, \"'yes_corkage'\":1, \"u'no'\":-1, \"u'yes_free'\":2, \"u'yes_corkage'\":1},\n",
    "    'AgesAllowed':{np.nan:0, \"u'allages'\":1, \"u'21plus'\":2}\n",
    "}\n",
    "\n",
    "for col, mapping in attribute_conversions.items():\n",
    "    open_restaurants_condensed[col].replace(mapping, inplace = True)"
   ]
  },
  {
   "cell_type": "code",
   "execution_count": 30,
   "id": "5f62b35b-590f-4b55-adb5-901b1e2afbc1",
   "metadata": {
    "tags": []
   },
   "outputs": [],
   "source": [
    "for col in ['BusinessParking', 'Ambience', 'GoodForMeal', 'Music', 'BestNights']:\n",
    "    open_restaurants_condensed[col] = open_restaurants_condensed[col].apply(lambda x: eval(x) if isinstance(x, str) else x)\n",
    "    df = pd.json_normalize(open_restaurants_condensed[col])\n",
    "    df.columns = [col+'.'+column for column in df.columns]\n",
    "    open_restaurants_condensed.drop(col, inplace = True, axis = 1)\n",
    "    open_restaurants_condensed = open_restaurants_condensed.join(df)\n",
    "    "
   ]
  },
  {
   "cell_type": "markdown",
   "id": "7e1e5114-8e7c-4d77-a840-18959cb2ef86",
   "metadata": {},
   "source": [
    "## Look at exploded attributes"
   ]
  },
  {
   "cell_type": "code",
   "execution_count": 31,
   "id": "2313ccbf-9ace-44d0-b5c5-5e78f2407dc9",
   "metadata": {
    "jupyter": {
     "outputs_hidden": true
    },
    "tags": []
   },
   "outputs": [
    {
     "name": "stdout",
     "output_type": "stream",
     "text": [
      "Row:32380, columns:111\n",
      "                            Number of missing value Data type\n",
      "business_id                                       0    object\n",
      "name                                              0    object\n",
      "address                                           0    object\n",
      "city                                              0    object\n",
      "state                                             0    object\n",
      "postal_code                                       0    object\n",
      "latitude                                          0   float64\n",
      "longitude                                         0   float64\n",
      "stars                                             0   float64\n",
      "review_count                                      0     int64\n",
      "is_open                                           0     int64\n",
      "attributes                                      359    object\n",
      "categories                                        0    object\n",
      "hours                                          2971    object\n",
      "is_restaurant                                     0     int64\n",
      "American (New)                                    0     int64\n",
      "American (Traditional)                            0     int64\n",
      "Bakeries                                          0     int64\n",
      "Barbeque                                          0     int64\n",
      "Bars                                              0     int64\n",
      "Beer                                              0     int64\n",
      "Breakfast & Brunch                                0     int64\n",
      "Burgers                                           0     int64\n",
      "Cafes                                             0     int64\n",
      "Caterers                                          0     int64\n",
      "Chicken Wings                                     0     int64\n",
      "Chinese                                           0     int64\n",
      "Cocktail Bars                                     0     int64\n",
      "Coffee & Tea                                      0     int64\n",
      "Delis                                             0     int64\n",
      "Desserts                                          0     int64\n",
      "Diners                                            0     int64\n",
      "Fast Food                                         0     int64\n",
      "Italian                                           0     int64\n",
      "Japanese                                          0     int64\n",
      "Mexican                                           0     int64\n",
      "Nightlife                                         0     int64\n",
      "Pizza                                             0     int64\n",
      "Salad                                             0     int64\n",
      "Sandwiches                                        0     int64\n",
      "Seafood                                           0     int64\n",
      "Specialty Food                                    0     int64\n",
      "Sports Bars                                       0     int64\n",
      "Steakhouses                                       0     int64\n",
      "Sushi Bars                                        0     int64\n",
      "RestaurantsDelivery                               0   float64\n",
      "OutdoorSeating                                    0   float64\n",
      "BusinessAcceptsCreditCards                        0   float64\n",
      "BikeParking                                       0   float64\n",
      "RestaurantsPriceRange2                        26517   float64\n",
      "RestaurantsTakeOut                                0   float64\n",
      "ByAppointmentOnly                                 0   float64\n",
      "WiFi                                              0     int64\n",
      "Alcohol                                           0     int64\n",
      "Caters                                            0   float64\n",
      "RestaurantsAttire                                 0     int64\n",
      "RestaurantsReservations                           0   float64\n",
      "GoodForKids                                       0   float64\n",
      "CoatCheck                                         0   float64\n",
      "DogsAllowed                                       0   float64\n",
      "RestaurantsTableService                           0   float64\n",
      "RestaurantsGoodForGroups                          0   float64\n",
      "WheelchairAccessible                              0   float64\n",
      "HasTV                                             0   float64\n",
      "HappyHour                                         0   float64\n",
      "DriveThru                                         0   float64\n",
      "NoiseLevel                                        0     int64\n",
      "BusinessAcceptsBitcoin                            0   float64\n",
      "Smoking                                           0     int64\n",
      "GoodForDancing                                    0   float64\n",
      "BYOB                                              0   float64\n",
      "Corkage                                           0   float64\n",
      "BYOBCorkage                                       0     int64\n",
      "RestaurantsCounterService                         0   float64\n",
      "Open24Hours                                       0   float64\n",
      "AgesAllowed                                       0     int64\n",
      "AcceptsInsurance                                  0   float64\n",
      "BusinessParking.garage                        31165    object\n",
      "BusinessParking.street                        31201    object\n",
      "BusinessParking.validated                     31170    object\n",
      "BusinessParking.lot                           31178    object\n",
      "BusinessParking.valet                         31107    object\n",
      "Ambience.touristy                             31323    object\n",
      "Ambience.hipster                              31343    object\n",
      "Ambience.romantic                             31305    object\n",
      "Ambience.divey                                31384    object\n",
      "Ambience.intimate                             31341    object\n",
      "Ambience.trendy                               31381    object\n",
      "Ambience.upscale                              31281    object\n",
      "Ambience.classy                               31326    object\n",
      "Ambience.casual                               31271    object\n",
      "GoodForMeal.dessert                           31654    object\n",
      "GoodForMeal.latenight                         31615    object\n",
      "GoodForMeal.lunch                             31566    object\n",
      "GoodForMeal.dinner                            31504    object\n",
      "GoodForMeal.brunch                            31600    object\n",
      "GoodForMeal.breakfast                         31551    object\n",
      "Music.dj                                      32199    object\n",
      "Music.background_music                        32185    object\n",
      "Music.no_music                                32186    object\n",
      "Music.jukebox                                 32220    object\n",
      "Music.live                                    32196    object\n",
      "Music.video                                   32185    object\n",
      "Music.karaoke                                 32230    object\n",
      "BestNights.monday                             32202    object\n",
      "BestNights.tuesday                            32202    object\n",
      "BestNights.wednesday                          32202    object\n",
      "BestNights.thursday                           32202    object\n",
      "BestNights.friday                             32202    object\n",
      "BestNights.saturday                           32202    object\n",
      "BestNights.sunday                             32202    object\n"
     ]
    }
   ],
   "source": [
    "with pd.option_context('display.max_rows', None, 'display.max_columns', None):\n",
    "    print(basic_details(open_restaurants_condensed))"
   ]
  },
  {
   "cell_type": "markdown",
   "id": "a19882e2-77bd-4193-ba8d-a14e006c04f2",
   "metadata": {},
   "source": [
    "## Save the ds"
   ]
  },
  {
   "cell_type": "code",
   "execution_count": null,
   "id": "3b64124f-6fc4-4a23-ab3a-1f86b56070ac",
   "metadata": {
    "tags": []
   },
   "outputs": [],
   "source": [
    "open_restaurants_condensed.to_csv('business_data.csv',index=False)"
   ]
  },
  {
   "cell_type": "markdown",
   "id": "4fbaf277-33fa-4ee2-9f9c-2a432b1fac20",
   "metadata": {},
   "source": [
    "## OPEN QUESTIONS"
   ]
  },
  {
   "cell_type": "code",
   "execution_count": null,
   "id": "db3b5ed4-7d21-46a7-be16-be14044c3b93",
   "metadata": {},
   "outputs": [],
   "source": [
    "### Questions about data \n",
    "## Remove restaurants with less reviews? or just remove review_coubnt as column??\n",
    "## Remove sparse attributes?\n",
    "## Sparse categories were removed, but should we find another way to consolidate?\n",
    "## data is fairly high dimensional..."
   ]
  },
  {
   "cell_type": "code",
   "execution_count": null,
   "id": "b5265898-1df0-4d43-9830-5768b37b9be8",
   "metadata": {
    "tags": []
   },
   "outputs": [],
   "source": [
    "sum(open_restaurants_condensed['review_count'] > 100)"
   ]
  },
  {
   "cell_type": "code",
   "execution_count": null,
   "id": "bee7079e-949a-4bfe-9e34-cecc76f50d6a",
   "metadata": {},
   "outputs": [],
   "source": [
    "open_restaurants_condensed.groupby('city').sum().sort_values('review_count',ascending = False)[0:30][['review_count']]"
   ]
  },
  {
   "cell_type": "code",
   "execution_count": null,
   "id": "e8e24f3e",
   "metadata": {},
   "outputs": [],
   "source": []
  },
  {
   "cell_type": "code",
   "execution_count": null,
   "id": "62b96e4c",
   "metadata": {},
   "outputs": [],
   "source": [
    "open_restaurants_condensed.columns[0:30]"
   ]
  },
  {
   "cell_type": "markdown",
   "id": "33432f7b",
   "metadata": {},
   "source": [
    "# starting emmas work below "
   ]
  },
  {
   "cell_type": "markdown",
   "id": "3eeae55f",
   "metadata": {},
   "source": [
    "## Group categories:"
   ]
  },
  {
   "cell_type": "code",
   "execution_count": 32,
   "id": "f3a26a55",
   "metadata": {},
   "outputs": [
    {
     "name": "stdout",
     "output_type": "stream",
     "text": [
      "American\n",
      "Dessert\n",
      "Bar\n",
      "Beer,Wine,Spirits\n",
      "Breakfast\n",
      "Coffee & Tea\n",
      "Asian\n",
      "Italian\n",
      "Healthy,Specialty Food\n",
      "Latin American\n",
      "Mediterranean\n",
      "Western European\n",
      "Slavic Food\n",
      "African\n"
     ]
    }
   ],
   "source": [
    "def group(row,cat_type):\n",
    "    if cat_type == 'American':\n",
    "        possible = ['American (New)', 'American (Traditional)','Steakhouses','Tex-Mex','Supper Clubs','Buffets','Burgers','Cheesesteaks','Canadian (New)','Delicatessen','Delis','Diners','Dinner Theater','Comfort Food','Chicken Wings','Cajun/Creole','Barbeque','Fast Food'\n",
    "                    ,'Local Flavor','Pancakes','Pretzels','Sandwiches','Soul Food','Poutineries','Southern','Steakhouses','Smokehouse','Soup','Australian']\n",
    "    if cat_type == 'Dessert':\n",
    "        possible = ['Bakeries','Chocolatiers & Shops','Creperies','Cupcakes','Custom Cakes','Desserts','Donuts','Fondue','Gelato','Ice Cream & Frozen Yogurt'\n",
    "                    ,'Patisserie/Cake Shop','Shaved Ice','Shaved Snow','Waffles','Macarons']\n",
    "    if cat_type == 'Bar':\n",
    "        possible = [ 'Bar Crawl','Bars','Bartenders','Brewpubs','Champagne Bars','Cideries','Cocktail Bars','Dive Bars'\n",
    "                    ,'Drive-Thru Bars','Gay Bars','Hookah Bars','Nightlife','Pubs','Social Clubs','Sports Bars'\n",
    "                        ,'Sports Clubs','Tapas Bars','Tiki Bars','Whiskey Bars','Speakeasies','Jazz & Blues','Karaoke','Gastropubs','Irish Pub']\n",
    "    if cat_type == 'Beer,Wine,Spirits':\n",
    "        possible = ['Beer','Beer Bar','Beer Gardens','Breweries','Wine & Spirits','Wine Bars','Wine Tasting Classes','Wine Tasting Room','Wine Tours','Wineries','Distilleries','Paint & Sip','Beverage Store']\n",
    "    if cat_type == 'Breakfast':\n",
    "        possible = ['Bed & Breakfast','Breakfast & Brunch','Bagels','Diners']\n",
    "    if cat_type == 'Coffee & Tea':\n",
    "        possible = ['Cafes','Coffee & Tea','Coffee & Tea Supplies','Coffee Roasteries','Coffeeshops','Bubble Tea','Tea Rooms','Themed Cafes']\n",
    "    if cat_type == 'Asian':\n",
    "        possible = ['Tonkatsu','Teppanyaki','Sushi Bars','Ramen','Izakaya','Japanese','Japanese Curry','Donburi','Conveyor Belt Sushi','Cantonese','Chinese'\n",
    "                    ,'Dim Sum','Fuzhou','Hainan','Hakka','Hong Kong Style Cafe','Shanghainese','Szechuan','Taiwanese','Asian Fusion','Dumplings','Filipino','Indonesian','Korean','Noodles','Pan Asian','Singaporean','Thai','Vietnamese','Hot Pot','Poke']\n",
    "    if cat_type == 'Italian':\n",
    "        possible = ['Italian','Cucina campana','Pasta Shops','Pizza','Sicilian','Sardinian','Tuscan','Calabrian']\n",
    "    if cat_type == 'Healthy,Specialty Food':\n",
    "        possible = ['Acai Bowls','Fruits & Veggies','Gluten-Free','Health Markets','Juice Bars & Smoothies','Kombucha'\n",
    "                        ,'Kosher','Organic Stores','Salad','Specialty Food','Vegan','Vegetarian','Wraps']\n",
    "    if cat_type == 'Latin American':\n",
    "        possible = ['Argentine','Colombian','Cuban','Dominican','Empanadas','Latin American','Mexican','New Mexican Cuisine','Puerto Rican','Spanish','Tacos','Tapas/Small Plates','Tex-Mex','Venezuelan']\n",
    "    if cat_type == 'Mediterranean':\n",
    "        possible = ['Egyptian','Falafel','Greek','Halal','Kebab','Lebanese','Mediterranean','Moroccan','Pita','Portuguese','Turkish','Syrian','Middle Eastern','Israeli']\n",
    "    if cat_type == 'Western European':\n",
    "        possible = ['Tapas/Small Plates','Spanish','Portuguese','Bistros','Brasseries','French','Basque','British','Eastern European','Fish & Chips','Gastropubs','Irish','Modern European','Scandinavian','Scottish']\n",
    "    if cat_type == 'Slavic Food':\n",
    "        possible = ['Serbo Croatian','Russian' ,'Polish','Croatian','Ukranian','German','Austrian','Czech','Belgian','Hungarian','Iberian']\n",
    "    if cat_type == 'African':\n",
    "        possible = ['African','Ethiopian','South African','Somali','South African','Senegalese']\n",
    "    \n",
    "    \n",
    "    for thing in possible:\n",
    "        if thing in row['categories']:\n",
    "            return 1\n",
    "    return 0\n",
    "\n",
    "    \n",
    "groups = ['American', 'Dessert', 'Bar', 'Beer,Wine,Spirits','Breakfast' ,'Coffee & Tea','Asian','Italian', 'Healthy,Specialty Food', 'Latin American', 'Mediterranean','Western European', 'Slavic Food','African'] #, 'Asian', 'Italian', 'Healthy,Specialty Food']\n",
    "for cat in groups:\n",
    "    print(cat)\n",
    "    open_restaurants_condensed['is_' + cat] = open_restaurants_condensed.apply(group, cat_type =cat,axis=1)\n",
    "    "
   ]
  },
  {
   "cell_type": "code",
   "execution_count": 33,
   "id": "61a7be50",
   "metadata": {},
   "outputs": [
    {
     "data": {
      "text/plain": [
       "Index(['business_id', 'name', 'address', 'city', 'state', 'postal_code',\n",
       "       'latitude', 'longitude', 'stars', 'review_count',\n",
       "       ...\n",
       "       'is_Breakfast', 'is_Coffee & Tea', 'is_Asian', 'is_Italian',\n",
       "       'is_Healthy,Specialty Food', 'is_Latin American', 'is_Mediterranean',\n",
       "       'is_Western European', 'is_Slavic Food', 'is_African'],\n",
       "      dtype='object', length=125)"
      ]
     },
     "execution_count": 33,
     "metadata": {},
     "output_type": "execute_result"
    }
   ],
   "source": [
    "open_restaurants_condensed.columns"
   ]
  },
  {
   "cell_type": "markdown",
   "id": "3808e7a3",
   "metadata": {},
   "source": [
    "# Clustering by business"
   ]
  },
  {
   "cell_type": "markdown",
   "id": "e3cf8822",
   "metadata": {},
   "source": [
    "### using only some attributes"
   ]
  },
  {
   "cell_type": "code",
   "execution_count": 36,
   "id": "600d91bd",
   "metadata": {},
   "outputs": [],
   "source": [
    "X = open_restaurants_condensed[['stars','American (New)',\n",
    "       'American (Traditional)', 'Bakeries', 'Bars', 'Beer',\n",
    "       'Breakfast & Brunch', 'Burgers', 'Cafes', 'Caterers', 'Chicken Wings',\n",
    "       'Chinese', 'Cocktail Bars', 'Coffee & Tea', 'Delis', 'Desserts',\n",
    "       'Fast Food', 'Italian', 'Japanese', 'Mexican', 'Nightlife', 'Pizza',\n",
    "        'Salad', 'Sandwiches', 'Seafood', 'Specialty Food',\n",
    "       'Sports Bars', 'Sushi Bars','is_American', 'is_Dessert', 'is_Bar',\n",
    "       'is_Beer,Wine,Spirits', 'is_Breakfast', 'is_Coffee & Tea', 'is_Asian', 'is_Italian',\n",
    "       'is_Healthy,Specialty Food', 'is_Latin American', 'is_Mediterranean',\n",
    "       'is_Western European', 'is_Slavic Food', 'is_African']] #"
   ]
  },
  {
   "cell_type": "code",
   "execution_count": 53,
   "id": "04651c73",
   "metadata": {},
   "outputs": [
    {
     "data": {
      "image/png": "[encoded data removed]",
      "text/plain": [
       "<Figure size 640x480 with 1 Axes>"
      ]
     },
     "metadata": {},
     "output_type": "display_data"
    }
   ],
   "source": [
    "from sklearn.decomposition import PCA\n",
    "from sklearn.cluster import KMeans\n",
    "import numpy as np\n",
    "\n",
    "from sklearn.preprocessing import MinMaxScaler\n",
    "\n",
    "#Scale the data to the range between 0 and 1 before using PCA\n",
    "scaler = MinMaxScaler()\n",
    "data_rescaled = scaler.fit_transform(X)\n",
    "\n",
    "#Load Data\n",
    "pca = PCA(n_components = 0.95) # menans the explained variance is 95%; usually want between .95-.99\n",
    "\n",
    "#Transform the data\n",
    "df = pca.fit_transform(data_rescaled)\n",
    "\n",
    "df.shape\n",
    "\n",
    "from sklearn.cluster import KMeans\n",
    "kmeans = KMeans(n_clusters=6)\n",
    "label = kmeans.fit_predict(df)\n",
    "#filter rows of original data\n",
    "import matplotlib.pyplot as plt\n",
    "filtered_label0 = df[label == 0]\n",
    "\n",
    "#plotting the results\n",
    "plt.scatter(filtered_label0[:,0] , filtered_label0[:,1])\n",
    "plt.show()\n",
    "\n",
    "\n",
    "#optics "
   ]
  },
  {
   "cell_type": "code",
   "execution_count": 54,
   "id": "dcb86958",
   "metadata": {},
   "outputs": [
    {
     "data": {
      "text/plain": [
       "array([3, 1, 1, ..., 3, 2, 1], dtype=int32)"
      ]
     },
     "execution_count": 54,
     "metadata": {},
     "output_type": "execute_result"
    }
   ],
   "source": [
    "label"
   ]
  },
  {
   "cell_type": "code",
   "execution_count": null,
   "id": "5ab608d1",
   "metadata": {},
   "outputs": [],
   "source": [
    "X.sample(10)"
   ]
  },
  {
   "cell_type": "code",
   "execution_count": null,
   "id": "3e3a32e6",
   "metadata": {},
   "outputs": [],
   "source": [
    "#top_rest = open_restaurants_condensed.sample(10)\n",
    "#top_rest_id = list(top_rest['business_id'])\n",
    "#print(top_rest)"
   ]
  },
  {
   "cell_type": "code",
   "execution_count": 55,
   "id": "16100bef",
   "metadata": {},
   "outputs": [
    {
     "name": "stderr",
     "output_type": "stream",
     "text": [
      "/var/folders/08/_8h0msbx2d53rl64ky84n21w0000gn/T/ipykernel_52641/2847513631.py:4: SettingWithCopyWarning: \n",
      "A value is trying to be set on a copy of a slice from a DataFrame.\n",
      "Try using .loc[row_indexer,col_indexer] = value instead\n",
      "\n",
      "See the caveats in the documentation: https://pandas.pydata.org/pandas-docs/stable/user_guide/indexing.html#returning-a-view-versus-a-copy\n",
      "  all_rest['label'] = label\n",
      "/var/folders/08/_8h0msbx2d53rl64ky84n21w0000gn/T/ipykernel_52641/2847513631.py:5: SettingWithCopyWarning: \n",
      "A value is trying to be set on a copy of a slice from a DataFrame.\n",
      "Try using .loc[row_indexer,col_indexer] = value instead\n",
      "\n",
      "See the caveats in the documentation: https://pandas.pydata.org/pandas-docs/stable/user_guide/indexing.html#returning-a-view-versus-a-copy\n",
      "  all_rest['name'] = open_restaurants_condensed['name']\n",
      "/var/folders/08/_8h0msbx2d53rl64ky84n21w0000gn/T/ipykernel_52641/2847513631.py:6: SettingWithCopyWarning: \n",
      "A value is trying to be set on a copy of a slice from a DataFrame.\n",
      "Try using .loc[row_indexer,col_indexer] = value instead\n",
      "\n",
      "See the caveats in the documentation: https://pandas.pydata.org/pandas-docs/stable/user_guide/indexing.html#returning-a-view-versus-a-copy\n",
      "  all_rest['city'] = open_restaurants_condensed['city']\n",
      "/var/folders/08/_8h0msbx2d53rl64ky84n21w0000gn/T/ipykernel_52641/2847513631.py:8: SettingWithCopyWarning: \n",
      "A value is trying to be set on a copy of a slice from a DataFrame.\n",
      "Try using .loc[row_indexer,col_indexer] = value instead\n",
      "\n",
      "See the caveats in the documentation: https://pandas.pydata.org/pandas-docs/stable/user_guide/indexing.html#returning-a-view-versus-a-copy\n",
      "  philly['bus_id'] =  pd.Series(open_restaurants_condensed['business_id'])\n"
     ]
    }
   ],
   "source": [
    "### attempt at a recommendation: \n",
    "\n",
    "all_rest = X\n",
    "all_rest['label'] = label\n",
    "all_rest['name'] = open_restaurants_condensed['name']\n",
    "all_rest['city'] = open_restaurants_condensed['city']\n",
    "philly = all_rest[all_rest['city'] == 'Philadelphia']\n",
    "philly['bus_id'] =  pd.Series(open_restaurants_condensed['business_id'])\n",
    "\n",
    "top_rest = philly.sample(10)\n",
    "top_rest_id = list(top_rest['bus_id'])\n",
    "\n",
    "def recommend(top_rest, all_rest):\n",
    "    #top_rest = list of top rated restaurants business_id\n",
    "    #all_rest = df of restaurants with the clustering labels\n",
    "    #returns 3 recommended restaurants \n",
    "    \n",
    "    \n",
    "    \n",
    "    #get highest occuring cluster\n",
    "    topCluster = all_rest[all_rest['bus_id'].isin(top_rest)]['label'].value_counts().reset_index().iloc[0][0]\n",
    "    print(all_rest[all_rest['bus_id'].isin(top_rest)]['label'].value_counts())\n",
    "    #get all rest in that cluster label\n",
    "    cluster = all_rest[all_rest['label'] == topCluster]\n",
    "    \n",
    "    #better way to do this, but choose 5 randomly? for now\n",
    "    \n",
    "    random_three = cluster.sample(5)\n",
    "    \n",
    "    return random_three\n",
    "    \n",
    "    "
   ]
  },
  {
   "cell_type": "code",
   "execution_count": 56,
   "id": "fd1828a9",
   "metadata": {},
   "outputs": [
    {
     "name": "stdout",
     "output_type": "stream",
     "text": [
      "5    3\n",
      "3    2\n",
      "4    2\n",
      "0    1\n",
      "1    1\n",
      "2    1\n",
      "Name: label, dtype: int64\n"
     ]
    },
    {
     "data": {
      "text/html": [
       "<div>\n",
       "<style scoped>\n",
       "    .dataframe tbody tr th:only-of-type {\n",
       "        vertical-align: middle;\n",
       "    }\n",
       "\n",
       "    .dataframe tbody tr th {\n",
       "        vertical-align: top;\n",
       "    }\n",
       "\n",
       "    .dataframe thead th {\n",
       "        text-align: right;\n",
       "    }\n",
       "</style>\n",
       "<table border=\"1\" class=\"dataframe\">\n",
       "  <thead>\n",
       "    <tr style=\"text-align: right;\">\n",
       "      <th></th>\n",
       "      <th>stars</th>\n",
       "      <th>American (New)</th>\n",
       "      <th>American (Traditional)</th>\n",
       "      <th>Bakeries</th>\n",
       "      <th>Bars</th>\n",
       "      <th>Beer</th>\n",
       "      <th>Breakfast &amp; Brunch</th>\n",
       "      <th>Burgers</th>\n",
       "      <th>Cafes</th>\n",
       "      <th>Caterers</th>\n",
       "      <th>...</th>\n",
       "      <th>is_Healthy,Specialty Food</th>\n",
       "      <th>is_Latin American</th>\n",
       "      <th>is_Mediterranean</th>\n",
       "      <th>is_Western European</th>\n",
       "      <th>is_Slavic Food</th>\n",
       "      <th>is_African</th>\n",
       "      <th>label</th>\n",
       "      <th>name</th>\n",
       "      <th>city</th>\n",
       "      <th>bus_id</th>\n",
       "    </tr>\n",
       "  </thead>\n",
       "  <tbody>\n",
       "    <tr>\n",
       "      <th>118313</th>\n",
       "      <td>3.5</td>\n",
       "      <td>0</td>\n",
       "      <td>0</td>\n",
       "      <td>0</td>\n",
       "      <td>1</td>\n",
       "      <td>1</td>\n",
       "      <td>0</td>\n",
       "      <td>0</td>\n",
       "      <td>0</td>\n",
       "      <td>0</td>\n",
       "      <td>...</td>\n",
       "      <td>0</td>\n",
       "      <td>0</td>\n",
       "      <td>0</td>\n",
       "      <td>0</td>\n",
       "      <td>0</td>\n",
       "      <td>0</td>\n",
       "      <td>5</td>\n",
       "      <td>JJ Bootleggers</td>\n",
       "      <td>Philadelphia</td>\n",
       "      <td>qJxOT7bo-PdW1-xx3nK8SQ</td>\n",
       "    </tr>\n",
       "    <tr>\n",
       "      <th>127141</th>\n",
       "      <td>3.5</td>\n",
       "      <td>0</td>\n",
       "      <td>0</td>\n",
       "      <td>0</td>\n",
       "      <td>1</td>\n",
       "      <td>0</td>\n",
       "      <td>0</td>\n",
       "      <td>0</td>\n",
       "      <td>0</td>\n",
       "      <td>0</td>\n",
       "      <td>...</td>\n",
       "      <td>0</td>\n",
       "      <td>0</td>\n",
       "      <td>0</td>\n",
       "      <td>0</td>\n",
       "      <td>0</td>\n",
       "      <td>0</td>\n",
       "      <td>5</td>\n",
       "      <td>D'Angelo's Ristorante Italiano</td>\n",
       "      <td>Philadelphia</td>\n",
       "      <td>8JcdN89xv4AqAVRSDLLUHw</td>\n",
       "    </tr>\n",
       "    <tr>\n",
       "      <th>30172</th>\n",
       "      <td>4.0</td>\n",
       "      <td>1</td>\n",
       "      <td>0</td>\n",
       "      <td>0</td>\n",
       "      <td>1</td>\n",
       "      <td>0</td>\n",
       "      <td>0</td>\n",
       "      <td>0</td>\n",
       "      <td>0</td>\n",
       "      <td>0</td>\n",
       "      <td>...</td>\n",
       "      <td>0</td>\n",
       "      <td>0</td>\n",
       "      <td>0</td>\n",
       "      <td>0</td>\n",
       "      <td>0</td>\n",
       "      <td>0</td>\n",
       "      <td>5</td>\n",
       "      <td>Lucky 13 Pub</td>\n",
       "      <td>Philadelphia</td>\n",
       "      <td>GKNknnI7pZgPwjOKNI9NPQ</td>\n",
       "    </tr>\n",
       "    <tr>\n",
       "      <th>73823</th>\n",
       "      <td>3.0</td>\n",
       "      <td>1</td>\n",
       "      <td>1</td>\n",
       "      <td>0</td>\n",
       "      <td>1</td>\n",
       "      <td>0</td>\n",
       "      <td>0</td>\n",
       "      <td>0</td>\n",
       "      <td>0</td>\n",
       "      <td>0</td>\n",
       "      <td>...</td>\n",
       "      <td>0</td>\n",
       "      <td>0</td>\n",
       "      <td>1</td>\n",
       "      <td>0</td>\n",
       "      <td>0</td>\n",
       "      <td>0</td>\n",
       "      <td>5</td>\n",
       "      <td>His &amp; Hers Restaurant &amp; Bar</td>\n",
       "      <td>Philadelphia</td>\n",
       "      <td>N_zgKDHop40kPOq_9Uz0Fg</td>\n",
       "    </tr>\n",
       "    <tr>\n",
       "      <th>92465</th>\n",
       "      <td>4.0</td>\n",
       "      <td>0</td>\n",
       "      <td>1</td>\n",
       "      <td>0</td>\n",
       "      <td>1</td>\n",
       "      <td>0</td>\n",
       "      <td>0</td>\n",
       "      <td>0</td>\n",
       "      <td>0</td>\n",
       "      <td>0</td>\n",
       "      <td>...</td>\n",
       "      <td>0</td>\n",
       "      <td>0</td>\n",
       "      <td>0</td>\n",
       "      <td>0</td>\n",
       "      <td>0</td>\n",
       "      <td>0</td>\n",
       "      <td>5</td>\n",
       "      <td>Franky Bradley's</td>\n",
       "      <td>Philadelphia</td>\n",
       "      <td>N_6lpdW1jhAx1EVcHJPK5g</td>\n",
       "    </tr>\n",
       "  </tbody>\n",
       "</table>\n",
       "<p>5 rows × 46 columns</p>\n",
       "</div>"
      ],
      "text/plain": [
       "        stars  American (New)  American (Traditional)  Bakeries  Bars  Beer  \\\n",
       "118313    3.5               0                       0         0     1     1   \n",
       "127141    3.5               0                       0         0     1     0   \n",
       "30172     4.0               1                       0         0     1     0   \n",
       "73823     3.0               1                       1         0     1     0   \n",
       "92465     4.0               0                       1         0     1     0   \n",
       "\n",
       "        Breakfast & Brunch  Burgers  Cafes  Caterers  ...  \\\n",
       "118313                   0        0      0         0  ...   \n",
       "127141                   0        0      0         0  ...   \n",
       "30172                    0        0      0         0  ...   \n",
       "73823                    0        0      0         0  ...   \n",
       "92465                    0        0      0         0  ...   \n",
       "\n",
       "        is_Healthy,Specialty Food  is_Latin American  is_Mediterranean  \\\n",
       "118313                          0                  0                 0   \n",
       "127141                          0                  0                 0   \n",
       "30172                           0                  0                 0   \n",
       "73823                           0                  0                 1   \n",
       "92465                           0                  0                 0   \n",
       "\n",
       "        is_Western European  is_Slavic Food  is_African  label  \\\n",
       "118313                    0               0           0      5   \n",
       "127141                    0               0           0      5   \n",
       "30172                     0               0           0      5   \n",
       "73823                     0               0           0      5   \n",
       "92465                     0               0           0      5   \n",
       "\n",
       "                                  name          city                  bus_id  \n",
       "118313                  JJ Bootleggers  Philadelphia  qJxOT7bo-PdW1-xx3nK8SQ  \n",
       "127141  D'Angelo's Ristorante Italiano  Philadelphia  8JcdN89xv4AqAVRSDLLUHw  \n",
       "30172                     Lucky 13 Pub  Philadelphia  GKNknnI7pZgPwjOKNI9NPQ  \n",
       "73823      His & Hers Restaurant & Bar  Philadelphia  N_zgKDHop40kPOq_9Uz0Fg  \n",
       "92465                 Franky Bradley's  Philadelphia  N_6lpdW1jhAx1EVcHJPK5g  \n",
       "\n",
       "[5 rows x 46 columns]"
      ]
     },
     "execution_count": 56,
     "metadata": {},
     "output_type": "execute_result"
    }
   ],
   "source": [
    "recommend(top_rest_id, philly)"
   ]
  },
  {
   "cell_type": "code",
   "execution_count": 57,
   "id": "88d4057c",
   "metadata": {},
   "outputs": [
    {
     "data": {
      "text/html": [
       "<div>\n",
       "<style scoped>\n",
       "    .dataframe tbody tr th:only-of-type {\n",
       "        vertical-align: middle;\n",
       "    }\n",
       "\n",
       "    .dataframe tbody tr th {\n",
       "        vertical-align: top;\n",
       "    }\n",
       "\n",
       "    .dataframe thead th {\n",
       "        text-align: right;\n",
       "    }\n",
       "</style>\n",
       "<table border=\"1\" class=\"dataframe\">\n",
       "  <thead>\n",
       "    <tr style=\"text-align: right;\">\n",
       "      <th></th>\n",
       "      <th>stars</th>\n",
       "      <th>American (New)</th>\n",
       "      <th>American (Traditional)</th>\n",
       "      <th>Bakeries</th>\n",
       "      <th>Bars</th>\n",
       "      <th>Beer</th>\n",
       "      <th>Breakfast &amp; Brunch</th>\n",
       "      <th>Burgers</th>\n",
       "      <th>Cafes</th>\n",
       "      <th>Caterers</th>\n",
       "      <th>...</th>\n",
       "      <th>is_Healthy,Specialty Food</th>\n",
       "      <th>is_Latin American</th>\n",
       "      <th>is_Mediterranean</th>\n",
       "      <th>is_Western European</th>\n",
       "      <th>is_Slavic Food</th>\n",
       "      <th>is_African</th>\n",
       "      <th>label</th>\n",
       "      <th>name</th>\n",
       "      <th>city</th>\n",
       "      <th>bus_id</th>\n",
       "    </tr>\n",
       "  </thead>\n",
       "  <tbody>\n",
       "    <tr>\n",
       "      <th>87164</th>\n",
       "      <td>4.5</td>\n",
       "      <td>0</td>\n",
       "      <td>0</td>\n",
       "      <td>0</td>\n",
       "      <td>0</td>\n",
       "      <td>0</td>\n",
       "      <td>0</td>\n",
       "      <td>0</td>\n",
       "      <td>0</td>\n",
       "      <td>0</td>\n",
       "      <td>...</td>\n",
       "      <td>0</td>\n",
       "      <td>0</td>\n",
       "      <td>0</td>\n",
       "      <td>0</td>\n",
       "      <td>0</td>\n",
       "      <td>0</td>\n",
       "      <td>4</td>\n",
       "      <td>Bravo's Pizza</td>\n",
       "      <td>Philadelphia</td>\n",
       "      <td>wJAzMFdnvEAOAxQks4jwuA</td>\n",
       "    </tr>\n",
       "    <tr>\n",
       "      <th>47498</th>\n",
       "      <td>4.0</td>\n",
       "      <td>0</td>\n",
       "      <td>0</td>\n",
       "      <td>0</td>\n",
       "      <td>1</td>\n",
       "      <td>0</td>\n",
       "      <td>0</td>\n",
       "      <td>0</td>\n",
       "      <td>0</td>\n",
       "      <td>0</td>\n",
       "      <td>...</td>\n",
       "      <td>0</td>\n",
       "      <td>0</td>\n",
       "      <td>0</td>\n",
       "      <td>0</td>\n",
       "      <td>0</td>\n",
       "      <td>0</td>\n",
       "      <td>5</td>\n",
       "      <td>Blue Cross RiverRink Winterfest</td>\n",
       "      <td>Philadelphia</td>\n",
       "      <td>yrpbZJblFvKpXSMvj--WVQ</td>\n",
       "    </tr>\n",
       "    <tr>\n",
       "      <th>116175</th>\n",
       "      <td>3.5</td>\n",
       "      <td>0</td>\n",
       "      <td>0</td>\n",
       "      <td>0</td>\n",
       "      <td>1</td>\n",
       "      <td>0</td>\n",
       "      <td>0</td>\n",
       "      <td>0</td>\n",
       "      <td>0</td>\n",
       "      <td>0</td>\n",
       "      <td>...</td>\n",
       "      <td>0</td>\n",
       "      <td>0</td>\n",
       "      <td>0</td>\n",
       "      <td>1</td>\n",
       "      <td>0</td>\n",
       "      <td>0</td>\n",
       "      <td>5</td>\n",
       "      <td>The Plough &amp; the Stars</td>\n",
       "      <td>Philadelphia</td>\n",
       "      <td>QXGnmsKYANxOyZBqM-zlJA</td>\n",
       "    </tr>\n",
       "    <tr>\n",
       "      <th>52995</th>\n",
       "      <td>4.0</td>\n",
       "      <td>0</td>\n",
       "      <td>0</td>\n",
       "      <td>0</td>\n",
       "      <td>0</td>\n",
       "      <td>0</td>\n",
       "      <td>0</td>\n",
       "      <td>0</td>\n",
       "      <td>0</td>\n",
       "      <td>0</td>\n",
       "      <td>...</td>\n",
       "      <td>0</td>\n",
       "      <td>0</td>\n",
       "      <td>0</td>\n",
       "      <td>0</td>\n",
       "      <td>0</td>\n",
       "      <td>0</td>\n",
       "      <td>3</td>\n",
       "      <td>Dim Sum Garden</td>\n",
       "      <td>Philadelphia</td>\n",
       "      <td>AGlh4ZDv6jnoiYfz7At9mw</td>\n",
       "    </tr>\n",
       "    <tr>\n",
       "      <th>115848</th>\n",
       "      <td>4.0</td>\n",
       "      <td>0</td>\n",
       "      <td>0</td>\n",
       "      <td>0</td>\n",
       "      <td>0</td>\n",
       "      <td>1</td>\n",
       "      <td>0</td>\n",
       "      <td>0</td>\n",
       "      <td>0</td>\n",
       "      <td>0</td>\n",
       "      <td>...</td>\n",
       "      <td>0</td>\n",
       "      <td>0</td>\n",
       "      <td>0</td>\n",
       "      <td>0</td>\n",
       "      <td>0</td>\n",
       "      <td>0</td>\n",
       "      <td>1</td>\n",
       "      <td>3J's Food Market  Fishtown</td>\n",
       "      <td>Philadelphia</td>\n",
       "      <td>70VI6reR3oDXWhRRgpTRTQ</td>\n",
       "    </tr>\n",
       "    <tr>\n",
       "      <th>140164</th>\n",
       "      <td>3.5</td>\n",
       "      <td>0</td>\n",
       "      <td>0</td>\n",
       "      <td>0</td>\n",
       "      <td>0</td>\n",
       "      <td>0</td>\n",
       "      <td>0</td>\n",
       "      <td>0</td>\n",
       "      <td>0</td>\n",
       "      <td>0</td>\n",
       "      <td>...</td>\n",
       "      <td>0</td>\n",
       "      <td>0</td>\n",
       "      <td>0</td>\n",
       "      <td>0</td>\n",
       "      <td>0</td>\n",
       "      <td>0</td>\n",
       "      <td>4</td>\n",
       "      <td>Margherita Pizzeria</td>\n",
       "      <td>Philadelphia</td>\n",
       "      <td>y9Jpw5Koli_-dGL0S5RI0A</td>\n",
       "    </tr>\n",
       "    <tr>\n",
       "      <th>124563</th>\n",
       "      <td>2.5</td>\n",
       "      <td>0</td>\n",
       "      <td>0</td>\n",
       "      <td>0</td>\n",
       "      <td>0</td>\n",
       "      <td>0</td>\n",
       "      <td>0</td>\n",
       "      <td>0</td>\n",
       "      <td>0</td>\n",
       "      <td>0</td>\n",
       "      <td>...</td>\n",
       "      <td>0</td>\n",
       "      <td>1</td>\n",
       "      <td>0</td>\n",
       "      <td>0</td>\n",
       "      <td>0</td>\n",
       "      <td>0</td>\n",
       "      <td>2</td>\n",
       "      <td>El Bochinche Restaurante</td>\n",
       "      <td>Philadelphia</td>\n",
       "      <td>td_BI5T5qP01T5QfD4j3Sg</td>\n",
       "    </tr>\n",
       "    <tr>\n",
       "      <th>40133</th>\n",
       "      <td>3.0</td>\n",
       "      <td>0</td>\n",
       "      <td>0</td>\n",
       "      <td>0</td>\n",
       "      <td>1</td>\n",
       "      <td>0</td>\n",
       "      <td>0</td>\n",
       "      <td>0</td>\n",
       "      <td>0</td>\n",
       "      <td>0</td>\n",
       "      <td>...</td>\n",
       "      <td>0</td>\n",
       "      <td>0</td>\n",
       "      <td>0</td>\n",
       "      <td>0</td>\n",
       "      <td>0</td>\n",
       "      <td>0</td>\n",
       "      <td>5</td>\n",
       "      <td>The Penthouse Club</td>\n",
       "      <td>Philadelphia</td>\n",
       "      <td>KDRKXax6rpTCdHf43nqQcw</td>\n",
       "    </tr>\n",
       "    <tr>\n",
       "      <th>111061</th>\n",
       "      <td>3.0</td>\n",
       "      <td>0</td>\n",
       "      <td>0</td>\n",
       "      <td>1</td>\n",
       "      <td>0</td>\n",
       "      <td>0</td>\n",
       "      <td>0</td>\n",
       "      <td>0</td>\n",
       "      <td>1</td>\n",
       "      <td>0</td>\n",
       "      <td>...</td>\n",
       "      <td>0</td>\n",
       "      <td>0</td>\n",
       "      <td>0</td>\n",
       "      <td>0</td>\n",
       "      <td>0</td>\n",
       "      <td>0</td>\n",
       "      <td>3</td>\n",
       "      <td>Olde Creamery Cafe</td>\n",
       "      <td>Philadelphia</td>\n",
       "      <td>va40jWz1dr0CHG4fIJgaHA</td>\n",
       "    </tr>\n",
       "    <tr>\n",
       "      <th>11042</th>\n",
       "      <td>3.0</td>\n",
       "      <td>0</td>\n",
       "      <td>0</td>\n",
       "      <td>0</td>\n",
       "      <td>0</td>\n",
       "      <td>0</td>\n",
       "      <td>1</td>\n",
       "      <td>0</td>\n",
       "      <td>0</td>\n",
       "      <td>0</td>\n",
       "      <td>...</td>\n",
       "      <td>0</td>\n",
       "      <td>0</td>\n",
       "      <td>0</td>\n",
       "      <td>0</td>\n",
       "      <td>0</td>\n",
       "      <td>0</td>\n",
       "      <td>0</td>\n",
       "      <td>Olde City Food Market</td>\n",
       "      <td>Philadelphia</td>\n",
       "      <td>dWoYU1l6t7_VB2LHYLHxmw</td>\n",
       "    </tr>\n",
       "  </tbody>\n",
       "</table>\n",
       "<p>10 rows × 46 columns</p>\n",
       "</div>"
      ],
      "text/plain": [
       "        stars  American (New)  American (Traditional)  Bakeries  Bars  Beer  \\\n",
       "87164     4.5               0                       0         0     0     0   \n",
       "47498     4.0               0                       0         0     1     0   \n",
       "116175    3.5               0                       0         0     1     0   \n",
       "52995     4.0               0                       0         0     0     0   \n",
       "115848    4.0               0                       0         0     0     1   \n",
       "140164    3.5               0                       0         0     0     0   \n",
       "124563    2.5               0                       0         0     0     0   \n",
       "40133     3.0               0                       0         0     1     0   \n",
       "111061    3.0               0                       0         1     0     0   \n",
       "11042     3.0               0                       0         0     0     0   \n",
       "\n",
       "        Breakfast & Brunch  Burgers  Cafes  Caterers  ...  \\\n",
       "87164                    0        0      0         0  ...   \n",
       "47498                    0        0      0         0  ...   \n",
       "116175                   0        0      0         0  ...   \n",
       "52995                    0        0      0         0  ...   \n",
       "115848                   0        0      0         0  ...   \n",
       "140164                   0        0      0         0  ...   \n",
       "124563                   0        0      0         0  ...   \n",
       "40133                    0        0      0         0  ...   \n",
       "111061                   0        0      1         0  ...   \n",
       "11042                    1        0      0         0  ...   \n",
       "\n",
       "        is_Healthy,Specialty Food  is_Latin American  is_Mediterranean  \\\n",
       "87164                           0                  0                 0   \n",
       "47498                           0                  0                 0   \n",
       "116175                          0                  0                 0   \n",
       "52995                           0                  0                 0   \n",
       "115848                          0                  0                 0   \n",
       "140164                          0                  0                 0   \n",
       "124563                          0                  1                 0   \n",
       "40133                           0                  0                 0   \n",
       "111061                          0                  0                 0   \n",
       "11042                           0                  0                 0   \n",
       "\n",
       "        is_Western European  is_Slavic Food  is_African  label  \\\n",
       "87164                     0               0           0      4   \n",
       "47498                     0               0           0      5   \n",
       "116175                    1               0           0      5   \n",
       "52995                     0               0           0      3   \n",
       "115848                    0               0           0      1   \n",
       "140164                    0               0           0      4   \n",
       "124563                    0               0           0      2   \n",
       "40133                     0               0           0      5   \n",
       "111061                    0               0           0      3   \n",
       "11042                     0               0           0      0   \n",
       "\n",
       "                                   name          city                  bus_id  \n",
       "87164                     Bravo's Pizza  Philadelphia  wJAzMFdnvEAOAxQks4jwuA  \n",
       "47498   Blue Cross RiverRink Winterfest  Philadelphia  yrpbZJblFvKpXSMvj--WVQ  \n",
       "116175           The Plough & the Stars  Philadelphia  QXGnmsKYANxOyZBqM-zlJA  \n",
       "52995                    Dim Sum Garden  Philadelphia  AGlh4ZDv6jnoiYfz7At9mw  \n",
       "115848       3J's Food Market  Fishtown  Philadelphia  70VI6reR3oDXWhRRgpTRTQ  \n",
       "140164              Margherita Pizzeria  Philadelphia  y9Jpw5Koli_-dGL0S5RI0A  \n",
       "124563         El Bochinche Restaurante  Philadelphia  td_BI5T5qP01T5QfD4j3Sg  \n",
       "40133                The Penthouse Club  Philadelphia  KDRKXax6rpTCdHf43nqQcw  \n",
       "111061               Olde Creamery Cafe  Philadelphia  va40jWz1dr0CHG4fIJgaHA  \n",
       "11042             Olde City Food Market  Philadelphia  dWoYU1l6t7_VB2LHYLHxmw  \n",
       "\n",
       "[10 rows x 46 columns]"
      ]
     },
     "execution_count": 57,
     "metadata": {},
     "output_type": "execute_result"
    }
   ],
   "source": [
    "top_rest"
   ]
  },
  {
   "cell_type": "code",
   "execution_count": null,
   "id": "474a59db",
   "metadata": {},
   "outputs": [],
   "source": []
  },
  {
   "cell_type": "markdown",
   "id": "71e31dd9",
   "metadata": {},
   "source": [
    "## Other testing"
   ]
  },
  {
   "cell_type": "markdown",
   "id": "ddd45642",
   "metadata": {},
   "source": [
    "### just generic groups\n",
    "\n",
    "not enough features"
   ]
  },
  {
   "cell_type": "code",
   "execution_count": null,
   "id": "40015848",
   "metadata": {},
   "outputs": [],
   "source": [
    "generic =  open_restaurants_condensed[['stars','is_American', 'is_Dessert', 'is_Bar',\n",
    "       'is_Beer,Wine,Spirits', 'is_Breakfast', 'is_Coffee & Tea', 'is_Italian',\n",
    "       'is_Healthy,Specialty Food', 'is_Asian','is_Mexican,Spanish', 'is_Mediterranean']] #"
   ]
  },
  {
   "cell_type": "code",
   "execution_count": null,
   "id": "5bd2d81c",
   "metadata": {},
   "outputs": [],
   "source": [
    "pca = PCA(n_components = 0.95)\n",
    "\n",
    "#Transform the data\n",
    "df = pca.fit_transform(generic)\n",
    "\n",
    "df.shape\n",
    "\n",
    "kmeans = KMeans(n_clusters = 3)\n",
    "label = kmeans.fit_predict(df)\n",
    "#filter rows of original data\n",
    "filtered_label0 = df[label == 0]\n",
    "\n",
    "#plotting the results\n",
    "plt.scatter(filtered_label0[:,0] , filtered_label0[:,1])\n",
    "plt.show()"
   ]
  },
  {
   "cell_type": "markdown",
   "id": "85aabb0d",
   "metadata": {},
   "source": [
    "### using most populated columns (top30)"
   ]
  },
  {
   "cell_type": "code",
   "execution_count": null,
   "id": "36cd685b",
   "metadata": {},
   "outputs": [],
   "source": [
    "top30 = list(basic_details(open_restaurants_condensed.replace({0:np.nan})).sort_values('Number of missing value', ascending =True)[17:48].reset_index()['index'])\n",
    "\n",
    "top30df = open_restaurants_condensed[top30]\n",
    "\n",
    "print(top30)\n"
   ]
  },
  {
   "cell_type": "code",
   "execution_count": null,
   "id": "9fcb9d21",
   "metadata": {},
   "outputs": [],
   "source": [
    "pca = PCA(2)\n",
    "\n",
    "#Transform the data\n",
    "df = pca.fit_transform(top30df.dropna())\n",
    "\n",
    "df.shape\n",
    "\n",
    "kmeans = KMeans(n_clusters = 10)\n",
    "label = kmeans.fit_predict(df)\n",
    "#filter rows of original data\n",
    "filtered_label0 = df[label == 0]\n",
    "\n",
    "#plotting the results\n",
    "plt.scatter(filtered_label0[:,0] , filtered_label0[:,1])\n",
    "plt.show()"
   ]
  },
  {
   "cell_type": "markdown",
   "id": "14d49233",
   "metadata": {},
   "source": [
    "## random stuff "
   ]
  },
  {
   "cell_type": "code",
   "execution_count": null,
   "id": "c0f73417",
   "metadata": {},
   "outputs": [],
   "source": [
    "from sklearn.decomposition import PCA\n",
    "from sklearn.cluster import KMeans\n",
    "import numpy as np\n",
    "\n",
    "#Load Data\n",
    "#print(open_restaurants_condensed.columns[30:50])\n",
    "big = open_restaurants_condensed.select_dtypes(include=np.number).dropna()\n",
    "\n",
    "pca = PCA(2)\n",
    "\n",
    "#Transform the data\n",
    "df = pca.fit_transform(big)\n",
    "\n",
    "df.shape\n",
    "\n",
    "from sklearn.cluster import KMeans\n",
    "kmeans = KMeans(n_clusters=5)\n",
    "label = kmeans.fit_predict(df)\n",
    "\n",
    "#filter rows of original data\n",
    "import matplotlib.pyplot as plt\n",
    "filtered_label0 = df[label == 0]\n",
    "\n",
    "#plotting the results\n",
    "plt.scatter(filtered_label0[:,0] , filtered_label0[:,1])\n",
    "plt.show()"
   ]
  }
 ],
 "metadata": {
  "kernelspec": {
   "display_name": "Python 3 (ipykernel)",
   "language": "python",
   "name": "python3"
  },
  "language_info": {
   "codemirror_mode": {
    "name": "ipython",
    "version": 3
   },
   "file_extension": ".py",
   "mimetype": "text/x-python",
   "name": "python",
   "nbconvert_exporter": "python",
   "pygments_lexer": "ipython3",
   "version": "3.9.13"
  }
 },
 "nbformat": 4,
 "nbformat_minor": 5
}
